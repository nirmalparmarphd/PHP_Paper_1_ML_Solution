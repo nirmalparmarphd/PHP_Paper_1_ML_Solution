{
 "cells": [
  {
   "cell_type": "code",
   "execution_count": 1,
   "metadata": {},
   "outputs": [
    {
     "name": "stderr",
     "output_type": "stream",
     "text": [
      "/Users/nirmal/Documents/np_dsci_codes/.venv/lib/python3.11/site-packages/pydantic/_internal/_fields.py:128: UserWarning: Field \"model_server_url\" has conflict with protected namespace \"model_\".\n",
      "\n",
      "You may be able to resolve this warning by setting `model_config['protected_namespaces'] = ()`.\n",
      "  warnings.warn(\n",
      "/Users/nirmal/Documents/np_dsci_codes/.venv/lib/python3.11/site-packages/pydantic/_internal/_config.py:317: UserWarning: Valid config keys have changed in V2:\n",
      "* 'schema_extra' has been renamed to 'json_schema_extra'\n",
      "  warnings.warn(message, UserWarning)\n"
     ]
    }
   ],
   "source": [
    "import pandas as pd\n",
    "import numpy as np\n",
    "import matplotlib.pyplot as plt\n",
    "from sklearn.feature_selection import mutual_info_regression\n",
    "from sklearn.model_selection import train_test_split\n",
    "from sklearn.metrics import mean_absolute_error, r2_score, mean_squared_error\n",
    "from sklearn.model_selection import train_test_split\n",
    "\n",
    "from sklearn.pipeline import Pipeline, make_pipeline\n",
    "from sklearn.preprocessing import OneHotEncoder, StandardScaler\n",
    "from sklearn.compose import ColumnTransformer\n",
    "import seaborn as sns\n",
    "sns.set()\n",
    "# ML Models\n",
    "from sklearn.ensemble import RandomForestRegressor\n",
    "from sklearn.linear_model import LinearRegression\n",
    "import xgboost as xgb\n",
    "# tune\n",
    "from hyperopt import fmin, tpe, hp, STATUS_OK, Trials\n",
    "import mlflow.xgboost\n",
    "import mlflow.sklearn\n",
    "import mlflow\n",
    "from mlflow.models.signature import infer_signature\n",
    "from urllib.parse import urlparse\n",
    "\n",
    "import logging\n",
    "import sys\n",
    "import warnings\n",
    "# logging.basicConfig()\n",
    "# logger = logging.getLogger(__name__)"
   ]
  },
  {
   "cell_type": "markdown",
   "metadata": {},
   "source": [
    "## Loading data"
   ]
  },
  {
   "cell_type": "code",
   "execution_count": 2,
   "metadata": {},
   "outputs": [
    {
     "data": {
      "text/html": [
       "<div>\n",
       "<style scoped>\n",
       "    .dataframe tbody tr th:only-of-type {\n",
       "        vertical-align: middle;\n",
       "    }\n",
       "\n",
       "    .dataframe tbody tr th {\n",
       "        vertical-align: top;\n",
       "    }\n",
       "\n",
       "    .dataframe thead th {\n",
       "        text-align: right;\n",
       "    }\n",
       "</style>\n",
       "<table border=\"1\" class=\"dataframe\">\n",
       "  <thead>\n",
       "    <tr style=\"text-align: right;\">\n",
       "      <th></th>\n",
       "      <th>Te[K]</th>\n",
       "      <th>Tc[K]</th>\n",
       "      <th>dT[K]</th>\n",
       "      <th>P[bar]</th>\n",
       "      <th>Q[W]</th>\n",
       "      <th>Fluid</th>\n",
       "      <th>FR</th>\n",
       "      <th>TR[K/W]</th>\n",
       "    </tr>\n",
       "  </thead>\n",
       "  <tbody>\n",
       "    <tr>\n",
       "      <th>3</th>\n",
       "      <td>300.150000</td>\n",
       "      <td>296.40</td>\n",
       "      <td>3.750000</td>\n",
       "      <td>0.413299</td>\n",
       "      <td>80</td>\n",
       "      <td>DI_Water</td>\n",
       "      <td>60</td>\n",
       "      <td>0.046875</td>\n",
       "    </tr>\n",
       "    <tr>\n",
       "      <th>4</th>\n",
       "      <td>302.150000</td>\n",
       "      <td>296.40</td>\n",
       "      <td>5.750000</td>\n",
       "      <td>0.413299</td>\n",
       "      <td>80</td>\n",
       "      <td>DI_Water</td>\n",
       "      <td>60</td>\n",
       "      <td>0.071875</td>\n",
       "    </tr>\n",
       "    <tr>\n",
       "      <th>5</th>\n",
       "      <td>302.816667</td>\n",
       "      <td>296.65</td>\n",
       "      <td>6.166667</td>\n",
       "      <td>0.413299</td>\n",
       "      <td>80</td>\n",
       "      <td>DI_Water</td>\n",
       "      <td>60</td>\n",
       "      <td>0.077083</td>\n",
       "    </tr>\n",
       "    <tr>\n",
       "      <th>6</th>\n",
       "      <td>305.150000</td>\n",
       "      <td>296.90</td>\n",
       "      <td>8.250000</td>\n",
       "      <td>0.413299</td>\n",
       "      <td>80</td>\n",
       "      <td>DI_Water</td>\n",
       "      <td>60</td>\n",
       "      <td>0.103125</td>\n",
       "    </tr>\n",
       "    <tr>\n",
       "      <th>7</th>\n",
       "      <td>306.816667</td>\n",
       "      <td>297.40</td>\n",
       "      <td>9.416667</td>\n",
       "      <td>0.413299</td>\n",
       "      <td>80</td>\n",
       "      <td>DI_Water</td>\n",
       "      <td>60</td>\n",
       "      <td>0.117708</td>\n",
       "    </tr>\n",
       "    <tr>\n",
       "      <th>...</th>\n",
       "      <td>...</td>\n",
       "      <td>...</td>\n",
       "      <td>...</td>\n",
       "      <td>...</td>\n",
       "      <td>...</td>\n",
       "      <td>...</td>\n",
       "      <td>...</td>\n",
       "      <td>...</td>\n",
       "    </tr>\n",
       "    <tr>\n",
       "      <th>7574</th>\n",
       "      <td>353.350000</td>\n",
       "      <td>338.90</td>\n",
       "      <td>14.450000</td>\n",
       "      <td>0.879927</td>\n",
       "      <td>80</td>\n",
       "      <td>DI_Water</td>\n",
       "      <td>60</td>\n",
       "      <td>0.180625</td>\n",
       "    </tr>\n",
       "    <tr>\n",
       "      <th>7575</th>\n",
       "      <td>353.550000</td>\n",
       "      <td>338.15</td>\n",
       "      <td>15.400000</td>\n",
       "      <td>0.879927</td>\n",
       "      <td>80</td>\n",
       "      <td>DI_Water</td>\n",
       "      <td>60</td>\n",
       "      <td>0.192500</td>\n",
       "    </tr>\n",
       "    <tr>\n",
       "      <th>7576</th>\n",
       "      <td>354.150000</td>\n",
       "      <td>338.15</td>\n",
       "      <td>16.000000</td>\n",
       "      <td>0.879927</td>\n",
       "      <td>80</td>\n",
       "      <td>DI_Water</td>\n",
       "      <td>60</td>\n",
       "      <td>0.200000</td>\n",
       "    </tr>\n",
       "    <tr>\n",
       "      <th>7577</th>\n",
       "      <td>354.350000</td>\n",
       "      <td>338.15</td>\n",
       "      <td>16.200000</td>\n",
       "      <td>0.946588</td>\n",
       "      <td>80</td>\n",
       "      <td>DI_Water</td>\n",
       "      <td>60</td>\n",
       "      <td>0.202500</td>\n",
       "    </tr>\n",
       "    <tr>\n",
       "      <th>7578</th>\n",
       "      <td>354.550000</td>\n",
       "      <td>337.40</td>\n",
       "      <td>17.150000</td>\n",
       "      <td>0.946588</td>\n",
       "      <td>80</td>\n",
       "      <td>DI_Water</td>\n",
       "      <td>60</td>\n",
       "      <td>0.214375</td>\n",
       "    </tr>\n",
       "  </tbody>\n",
       "</table>\n",
       "<p>4768 rows × 8 columns</p>\n",
       "</div>"
      ],
      "text/plain": [
       "           Te[K]   Tc[K]      dT[K]    P[bar]  Q[W]     Fluid  FR   TR[K/W]\n",
       "3     300.150000  296.40   3.750000  0.413299    80  DI_Water  60  0.046875\n",
       "4     302.150000  296.40   5.750000  0.413299    80  DI_Water  60  0.071875\n",
       "5     302.816667  296.65   6.166667  0.413299    80  DI_Water  60  0.077083\n",
       "6     305.150000  296.90   8.250000  0.413299    80  DI_Water  60  0.103125\n",
       "7     306.816667  297.40   9.416667  0.413299    80  DI_Water  60  0.117708\n",
       "...          ...     ...        ...       ...   ...       ...  ..       ...\n",
       "7574  353.350000  338.90  14.450000  0.879927    80  DI_Water  60  0.180625\n",
       "7575  353.550000  338.15  15.400000  0.879927    80  DI_Water  60  0.192500\n",
       "7576  354.150000  338.15  16.000000  0.879927    80  DI_Water  60  0.200000\n",
       "7577  354.350000  338.15  16.200000  0.946588    80  DI_Water  60  0.202500\n",
       "7578  354.550000  337.40  17.150000  0.946588    80  DI_Water  60  0.214375\n",
       "\n",
       "[4768 rows x 8 columns]"
      ]
     },
     "metadata": {},
     "output_type": "display_data"
    }
   ],
   "source": [
    "# loading data\n",
    "df = pd.read_csv('data/php_data_all.csv', index_col=0)\n",
    "# selecting data according to temperature range\n",
    "# NOTE: Data selected between [300, 355]\n",
    "df = df[(df['Te[K]'] > 300) & (df['Te[K]'] < 355)]\n",
    "display(df)"
   ]
  },
  {
   "cell_type": "markdown",
   "metadata": {},
   "source": [
    "## 1. Predicting TR"
   ]
  },
  {
   "cell_type": "code",
   "execution_count": 3,
   "metadata": {},
   "outputs": [],
   "source": [
    "# data split\n",
    "x = df[['Te[K]', 'dT[K]', 'P[bar]', 'Q[W]', 'Fluid', 'FR']]\n",
    "y = df['TR[K/W]']\n",
    "\n",
    "x_train, x_test, y_train, y_test = train_test_split(x, y, test_size=0.2, random_state=42)"
   ]
  },
  {
   "cell_type": "code",
   "execution_count": 4,
   "metadata": {},
   "outputs": [],
   "source": [
    "# data pipeline preparation\n",
    "numeric_features = ['Te[K]', 'dT[K]', 'P[bar]', 'Q[W]','FR']\n",
    "categorical_features = ['Fluid']\n",
    "\n",
    "numeric_transformer = make_pipeline(StandardScaler())\n",
    "categorical_tranformer = make_pipeline(OneHotEncoder(sparse_output=False))\n",
    "\n",
    "preprocessor = ColumnTransformer(\n",
    "    transformers=[\n",
    "    ('num', numeric_transformer, numeric_features),\n",
    "    ('cat', categorical_tranformer, categorical_features)\n",
    "    ])"
   ]
  },
  {
   "cell_type": "code",
   "execution_count": 5,
   "metadata": {},
   "outputs": [],
   "source": [
    "def evaluate(y_test, y_pred, k=6):\n",
    "    rmse = np.sqrt(mean_squared_error(y_test, y_pred))\n",
    "    mae = mean_absolute_error(y_test, y_pred)\n",
    "    r2 = r2_score(y_test, y_pred)\n",
    "    n = y_test.shape[0]\n",
    "    k = k\n",
    "    r2_adj = 1 - (((1-r2)*(n-1)) / (n-k-1))\n",
    "    return rmse, mae, r2, r2_adj"
   ]
  },
  {
   "cell_type": "code",
   "execution_count": 6,
   "metadata": {},
   "outputs": [
    {
     "name": "stderr",
     "output_type": "stream",
     "text": [
      "2023/10/29 17:31:59 WARNING mlflow.utils.autologging_utils: You are using an unsupported version of sklearn. If you encounter errors during autologging, try upgrading / downgrading sklearn to a supported version, or try upgrading MLflow.\n"
     ]
    }
   ],
   "source": [
    "mlflow.sklearn.autolog()\n",
    "\n",
    "def objective(params):\n",
    "    with mlflow.start_run():\n",
    "        mlflow.set_tag('model', 'xgb')\n",
    "        mlflow.log_params(params=params)\n",
    "\n",
    "        model_xgb = xgb.XGBRegressor(**params)\n",
    "        data_pipeline_rfr = Pipeline(steps=[('Preprocessing', preprocessor),\n",
    "                                ('RFR_model', model_xgb)])\n",
    "        \n",
    "        data_pipeline_rfr.fit(x_train, y_train)\n",
    "\n",
    "        pred = data_pipeline_rfr.predict(x_test)\n",
    "        \n",
    "        rmse, ame, r2, r2_adj = evaluate(y_test=y_test, y_pred=pred) # NEED TO CHECK WITH ONE TARGET VARIABLE\n",
    "        \n",
    "        signature = infer_signature(x_train, pred)\n",
    "\n",
    "        #trackin_url_type_store = urlparse(mlflow.get_tracking_uri()).scheme\n",
    "\n",
    "        # if trackin_url_type_store != \"file\":\n",
    "        #     mlflow.sklearn.log_model(model_xgb, 'model', registered_model_name='XGBRegressor', signature=signature)\n",
    "        # else:\n",
    "        #     mlflow.sklearn.log_model(model_xgb, 'model', signature=signature)\n",
    "        mlflow.sklearn.log_model(\n",
    "        sk_model=model_xgb,\n",
    "        artifact_path=\"sklearn-model\",\n",
    "        signature=signature,\n",
    "        registered_model_name=\"xgb-regressor\",\n",
    "    )\n",
    "    return {'loss': rmse, 'status': STATUS_OK}"
   ]
  },
  {
   "cell_type": "code",
   "execution_count": 6,
   "metadata": {},
   "outputs": [],
   "source": [
    "# mlflow manual logging of metrics and model\n",
    "\n",
    "def objective(params):\n",
    "    with mlflow.start_run():\n",
    "        mlflow.set_tag('model', 'xgb')\n",
    "        mlflow.log_params(params=params)\n",
    "\n",
    "        model_xgb = xgb.XGBRegressor(**params)\n",
    "        data_pipeline_rfr = Pipeline(steps=[('Preprocessing', preprocessor),\n",
    "                                ('RFR_model', model_xgb)])\n",
    "        \n",
    "        data_pipeline_rfr.fit(x_train, y_train)\n",
    "\n",
    "        pred = data_pipeline_rfr.predict(x_test)\n",
    "        \n",
    "        rmse, ame, r2, r2_adj = evaluate(y_test=y_test, y_pred=pred) # NEED TO CHECK WITH ONE TARGET VARIABLE\n",
    "        \n",
    "        signature = infer_signature(x_train, pred)\n",
    "\n",
    "        mlflow.log_metric('rmse', rmse)\n",
    "        mlflow.log_metric('ame', ame)\n",
    "        mlflow.log_metric('r2', r2)\n",
    "        mlflow.log_metric('r2_adj', r2_adj)\n",
    "        mlflow.sklearn.log_model(\n",
    "        sk_model=model_xgb,\n",
    "        artifact_path=\"sklearn-model\",\n",
    "        signature=signature,\n",
    "        registered_model_name=\"xgb-regressor\",\n",
    "    )\n",
    "    return {'loss': rmse, 'status': STATUS_OK}"
   ]
  },
  {
   "cell_type": "code",
   "execution_count": 7,
   "metadata": {},
   "outputs": [],
   "source": [
    "search_space = {'eta': hp.uniform('eta', 0.1,1), \n",
    "                'max_depth': hp.randint('max_depth', 2,8)}"
   ]
  },
  {
   "cell_type": "code",
   "execution_count": 8,
   "metadata": {},
   "outputs": [
    {
     "name": "stdout",
     "output_type": "stream",
     "text": [
      "  0%|          | 0/10 [00:00<?, ?trial/s, best loss=?]"
     ]
    },
    {
     "name": "stderr",
     "output_type": "stream",
     "text": [
      "/Users/nirmal/Documents/np_dsci_codes/.venv/lib/python3.11/site-packages/mlflow/models/signature.py:212: UserWarning: Hint: Inferred schema contains integer column(s). Integer columns in Python cannot represent missing values. If your input data contains missing values at inference time, it will be encoded as floats and will cause a schema enforcement error. The best way to avoid this problem is to infer the model schema based on a realistic data sample (training dataset) that includes missing values. Alternatively, you can declare integer columns as doubles (float64) whenever these columns may have missing values. See `Handling Integers With Missing Values <https://www.mlflow.org/docs/latest/models.html#handling-integers-with-missing-values>`_ for more details.\n",
      "  inputs = _infer_schema(model_input) if model_input is not None else None\n",
      "\n",
      "Registered model 'xgb-regressor' already exists. Creating a new version of this model...\n",
      "2023/11/04 18:10:51 INFO mlflow.tracking._model_registry.client: Waiting up to 300 seconds for model version to finish creation. Model name: xgb-regressor, version 11\n",
      "\n"
     ]
    },
    {
     "name": "stdout",
     "output_type": "stream",
     "text": [
      " 10%|█         | 1/10 [00:02<00:19,  2.19s/trial, best loss: 0.004072389551928847]"
     ]
    },
    {
     "name": "stderr",
     "output_type": "stream",
     "text": [
      "Created version '11' of model 'xgb-regressor'.\n",
      "/Users/nirmal/Documents/np_dsci_codes/.venv/lib/python3.11/site-packages/mlflow/models/signature.py:212: UserWarning: Hint: Inferred schema contains integer column(s). Integer columns in Python cannot represent missing values. If your input data contains missing values at inference time, it will be encoded as floats and will cause a schema enforcement error. The best way to avoid this problem is to infer the model schema based on a realistic data sample (training dataset) that includes missing values. Alternatively, you can declare integer columns as doubles (float64) whenever these columns may have missing values. See `Handling Integers With Missing Values <https://www.mlflow.org/docs/latest/models.html#handling-integers-with-missing-values>`_ for more details.\n",
      "  inputs = _infer_schema(model_input) if model_input is not None else None\n",
      "\n",
      "/Users/nirmal/Documents/np_dsci_codes/.venv/lib/python3.11/site-packages/_distutils_hack/__init__.py:18: UserWarning: Distutils was imported before Setuptools, but importing Setuptools also replaces the `distutils` module in `sys.modules`. This may lead to undesirable behaviors or errors. To avoid these issues, avoid using distutils directly, ensure that setuptools is installed in the traditional way (e.g. not an editable install), and/or make sure that setuptools is always imported before distutils.\n",
      "  warnings.warn(\n",
      "\n",
      "/Users/nirmal/Documents/np_dsci_codes/.venv/lib/python3.11/site-packages/_distutils_hack/__init__.py:33: UserWarning: Setuptools is replacing distutils.\n",
      "  warnings.warn(\"Setuptools is replacing distutils.\")\n",
      "\n",
      "Registered model 'xgb-regressor' already exists. Creating a new version of this model...\n",
      "2023/11/04 18:10:52 INFO mlflow.tracking._model_registry.client: Waiting up to 300 seconds for model version to finish creation. Model name: xgb-regressor, version 12\n",
      "\n"
     ]
    },
    {
     "name": "stdout",
     "output_type": "stream",
     "text": [
      " 20%|██        | 2/10 [00:03<00:12,  1.59s/trial, best loss: 0.004072389551928847]"
     ]
    },
    {
     "name": "stderr",
     "output_type": "stream",
     "text": [
      "Created version '12' of model 'xgb-regressor'.\n",
      "/Users/nirmal/Documents/np_dsci_codes/.venv/lib/python3.11/site-packages/mlflow/models/signature.py:212: UserWarning: Hint: Inferred schema contains integer column(s). Integer columns in Python cannot represent missing values. If your input data contains missing values at inference time, it will be encoded as floats and will cause a schema enforcement error. The best way to avoid this problem is to infer the model schema based on a realistic data sample (training dataset) that includes missing values. Alternatively, you can declare integer columns as doubles (float64) whenever these columns may have missing values. See `Handling Integers With Missing Values <https://www.mlflow.org/docs/latest/models.html#handling-integers-with-missing-values>`_ for more details.\n",
      "  inputs = _infer_schema(model_input) if model_input is not None else None\n",
      "\n",
      "/Users/nirmal/Documents/np_dsci_codes/.venv/lib/python3.11/site-packages/_distutils_hack/__init__.py:18: UserWarning: Distutils was imported before Setuptools, but importing Setuptools also replaces the `distutils` module in `sys.modules`. This may lead to undesirable behaviors or errors. To avoid these issues, avoid using distutils directly, ensure that setuptools is installed in the traditional way (e.g. not an editable install), and/or make sure that setuptools is always imported before distutils.\n",
      "  warnings.warn(\n",
      "\n",
      "/Users/nirmal/Documents/np_dsci_codes/.venv/lib/python3.11/site-packages/_distutils_hack/__init__.py:33: UserWarning: Setuptools is replacing distutils.\n",
      "  warnings.warn(\"Setuptools is replacing distutils.\")\n",
      "\n",
      "Registered model 'xgb-regressor' already exists. Creating a new version of this model...\n",
      "2023/11/04 18:10:54 INFO mlflow.tracking._model_registry.client: Waiting up to 300 seconds for model version to finish creation. Model name: xgb-regressor, version 13\n",
      "\n"
     ]
    },
    {
     "name": "stdout",
     "output_type": "stream",
     "text": [
      " 30%|███       | 3/10 [00:04<00:10,  1.45s/trial, best loss: 0.004072389551928847]"
     ]
    },
    {
     "name": "stderr",
     "output_type": "stream",
     "text": [
      "Created version '13' of model 'xgb-regressor'.\n",
      "/Users/nirmal/Documents/np_dsci_codes/.venv/lib/python3.11/site-packages/mlflow/models/signature.py:212: UserWarning: Hint: Inferred schema contains integer column(s). Integer columns in Python cannot represent missing values. If your input data contains missing values at inference time, it will be encoded as floats and will cause a schema enforcement error. The best way to avoid this problem is to infer the model schema based on a realistic data sample (training dataset) that includes missing values. Alternatively, you can declare integer columns as doubles (float64) whenever these columns may have missing values. See `Handling Integers With Missing Values <https://www.mlflow.org/docs/latest/models.html#handling-integers-with-missing-values>`_ for more details.\n",
      "  inputs = _infer_schema(model_input) if model_input is not None else None\n",
      "\n",
      "/Users/nirmal/Documents/np_dsci_codes/.venv/lib/python3.11/site-packages/_distutils_hack/__init__.py:18: UserWarning: Distutils was imported before Setuptools, but importing Setuptools also replaces the `distutils` module in `sys.modules`. This may lead to undesirable behaviors or errors. To avoid these issues, avoid using distutils directly, ensure that setuptools is installed in the traditional way (e.g. not an editable install), and/or make sure that setuptools is always imported before distutils.\n",
      "  warnings.warn(\n",
      "\n",
      "/Users/nirmal/Documents/np_dsci_codes/.venv/lib/python3.11/site-packages/_distutils_hack/__init__.py:33: UserWarning: Setuptools is replacing distutils.\n",
      "  warnings.warn(\"Setuptools is replacing distutils.\")\n",
      "\n",
      "Registered model 'xgb-regressor' already exists. Creating a new version of this model...\n",
      "2023/11/04 18:10:55 INFO mlflow.tracking._model_registry.client: Waiting up to 300 seconds for model version to finish creation. Model name: xgb-regressor, version 14\n",
      "\n"
     ]
    },
    {
     "name": "stdout",
     "output_type": "stream",
     "text": [
      " 40%|████      | 4/10 [00:05<00:08,  1.34s/trial, best loss: 0.0037327195604600445]"
     ]
    },
    {
     "name": "stderr",
     "output_type": "stream",
     "text": [
      "Created version '14' of model 'xgb-regressor'.\n",
      "/Users/nirmal/Documents/np_dsci_codes/.venv/lib/python3.11/site-packages/mlflow/models/signature.py:212: UserWarning: Hint: Inferred schema contains integer column(s). Integer columns in Python cannot represent missing values. If your input data contains missing values at inference time, it will be encoded as floats and will cause a schema enforcement error. The best way to avoid this problem is to infer the model schema based on a realistic data sample (training dataset) that includes missing values. Alternatively, you can declare integer columns as doubles (float64) whenever these columns may have missing values. See `Handling Integers With Missing Values <https://www.mlflow.org/docs/latest/models.html#handling-integers-with-missing-values>`_ for more details.\n",
      "  inputs = _infer_schema(model_input) if model_input is not None else None\n",
      "\n",
      "/Users/nirmal/Documents/np_dsci_codes/.venv/lib/python3.11/site-packages/_distutils_hack/__init__.py:18: UserWarning: Distutils was imported before Setuptools, but importing Setuptools also replaces the `distutils` module in `sys.modules`. This may lead to undesirable behaviors or errors. To avoid these issues, avoid using distutils directly, ensure that setuptools is installed in the traditional way (e.g. not an editable install), and/or make sure that setuptools is always imported before distutils.\n",
      "  warnings.warn(\n",
      "\n",
      "/Users/nirmal/Documents/np_dsci_codes/.venv/lib/python3.11/site-packages/_distutils_hack/__init__.py:33: UserWarning: Setuptools is replacing distutils.\n",
      "  warnings.warn(\"Setuptools is replacing distutils.\")\n",
      "\n",
      "Registered model 'xgb-regressor' already exists. Creating a new version of this model...\n",
      "2023/11/04 18:10:56 INFO mlflow.tracking._model_registry.client: Waiting up to 300 seconds for model version to finish creation. Model name: xgb-regressor, version 15\n",
      "\n"
     ]
    },
    {
     "name": "stdout",
     "output_type": "stream",
     "text": [
      " 50%|█████     | 5/10 [00:07<00:06,  1.29s/trial, best loss: 0.002590209558383032] "
     ]
    },
    {
     "name": "stderr",
     "output_type": "stream",
     "text": [
      "Created version '15' of model 'xgb-regressor'.\n",
      "/Users/nirmal/Documents/np_dsci_codes/.venv/lib/python3.11/site-packages/mlflow/models/signature.py:212: UserWarning: Hint: Inferred schema contains integer column(s). Integer columns in Python cannot represent missing values. If your input data contains missing values at inference time, it will be encoded as floats and will cause a schema enforcement error. The best way to avoid this problem is to infer the model schema based on a realistic data sample (training dataset) that includes missing values. Alternatively, you can declare integer columns as doubles (float64) whenever these columns may have missing values. See `Handling Integers With Missing Values <https://www.mlflow.org/docs/latest/models.html#handling-integers-with-missing-values>`_ for more details.\n",
      "  inputs = _infer_schema(model_input) if model_input is not None else None\n",
      "\n",
      "/Users/nirmal/Documents/np_dsci_codes/.venv/lib/python3.11/site-packages/_distutils_hack/__init__.py:18: UserWarning: Distutils was imported before Setuptools, but importing Setuptools also replaces the `distutils` module in `sys.modules`. This may lead to undesirable behaviors or errors. To avoid these issues, avoid using distutils directly, ensure that setuptools is installed in the traditional way (e.g. not an editable install), and/or make sure that setuptools is always imported before distutils.\n",
      "  warnings.warn(\n",
      "\n",
      "/Users/nirmal/Documents/np_dsci_codes/.venv/lib/python3.11/site-packages/_distutils_hack/__init__.py:33: UserWarning: Setuptools is replacing distutils.\n",
      "  warnings.warn(\"Setuptools is replacing distutils.\")\n",
      "\n",
      "Registered model 'xgb-regressor' already exists. Creating a new version of this model...\n",
      "2023/11/04 18:10:57 INFO mlflow.tracking._model_registry.client: Waiting up to 300 seconds for model version to finish creation. Model name: xgb-regressor, version 16\n",
      "\n"
     ]
    },
    {
     "name": "stdout",
     "output_type": "stream",
     "text": [
      " 60%|██████    | 6/10 [00:08<00:05,  1.25s/trial, best loss: 0.002590209558383032]"
     ]
    },
    {
     "name": "stderr",
     "output_type": "stream",
     "text": [
      "Created version '16' of model 'xgb-regressor'.\n",
      "/Users/nirmal/Documents/np_dsci_codes/.venv/lib/python3.11/site-packages/mlflow/models/signature.py:212: UserWarning: Hint: Inferred schema contains integer column(s). Integer columns in Python cannot represent missing values. If your input data contains missing values at inference time, it will be encoded as floats and will cause a schema enforcement error. The best way to avoid this problem is to infer the model schema based on a realistic data sample (training dataset) that includes missing values. Alternatively, you can declare integer columns as doubles (float64) whenever these columns may have missing values. See `Handling Integers With Missing Values <https://www.mlflow.org/docs/latest/models.html#handling-integers-with-missing-values>`_ for more details.\n",
      "  inputs = _infer_schema(model_input) if model_input is not None else None\n",
      "\n",
      "/Users/nirmal/Documents/np_dsci_codes/.venv/lib/python3.11/site-packages/_distutils_hack/__init__.py:18: UserWarning: Distutils was imported before Setuptools, but importing Setuptools also replaces the `distutils` module in `sys.modules`. This may lead to undesirable behaviors or errors. To avoid these issues, avoid using distutils directly, ensure that setuptools is installed in the traditional way (e.g. not an editable install), and/or make sure that setuptools is always imported before distutils.\n",
      "  warnings.warn(\n",
      "\n",
      "/Users/nirmal/Documents/np_dsci_codes/.venv/lib/python3.11/site-packages/_distutils_hack/__init__.py:33: UserWarning: Setuptools is replacing distutils.\n",
      "  warnings.warn(\"Setuptools is replacing distutils.\")\n",
      "\n",
      "Registered model 'xgb-regressor' already exists. Creating a new version of this model...\n",
      "2023/11/04 18:10:58 INFO mlflow.tracking._model_registry.client: Waiting up to 300 seconds for model version to finish creation. Model name: xgb-regressor, version 17\n",
      "\n"
     ]
    },
    {
     "name": "stdout",
     "output_type": "stream",
     "text": [
      " 70%|███████   | 7/10 [00:09<00:03,  1.23s/trial, best loss: 0.002590209558383032]"
     ]
    },
    {
     "name": "stderr",
     "output_type": "stream",
     "text": [
      "Created version '17' of model 'xgb-regressor'.\n",
      "/Users/nirmal/Documents/np_dsci_codes/.venv/lib/python3.11/site-packages/mlflow/models/signature.py:212: UserWarning: Hint: Inferred schema contains integer column(s). Integer columns in Python cannot represent missing values. If your input data contains missing values at inference time, it will be encoded as floats and will cause a schema enforcement error. The best way to avoid this problem is to infer the model schema based on a realistic data sample (training dataset) that includes missing values. Alternatively, you can declare integer columns as doubles (float64) whenever these columns may have missing values. See `Handling Integers With Missing Values <https://www.mlflow.org/docs/latest/models.html#handling-integers-with-missing-values>`_ for more details.\n",
      "  inputs = _infer_schema(model_input) if model_input is not None else None\n",
      "\n",
      "/Users/nirmal/Documents/np_dsci_codes/.venv/lib/python3.11/site-packages/_distutils_hack/__init__.py:18: UserWarning: Distutils was imported before Setuptools, but importing Setuptools also replaces the `distutils` module in `sys.modules`. This may lead to undesirable behaviors or errors. To avoid these issues, avoid using distutils directly, ensure that setuptools is installed in the traditional way (e.g. not an editable install), and/or make sure that setuptools is always imported before distutils.\n",
      "  warnings.warn(\n",
      "\n",
      "/Users/nirmal/Documents/np_dsci_codes/.venv/lib/python3.11/site-packages/_distutils_hack/__init__.py:33: UserWarning: Setuptools is replacing distutils.\n",
      "  warnings.warn(\"Setuptools is replacing distutils.\")\n",
      "\n",
      "Registered model 'xgb-regressor' already exists. Creating a new version of this model...\n",
      "2023/11/04 18:11:00 INFO mlflow.tracking._model_registry.client: Waiting up to 300 seconds for model version to finish creation. Model name: xgb-regressor, version 18\n",
      "\n"
     ]
    },
    {
     "name": "stdout",
     "output_type": "stream",
     "text": [
      " 80%|████████  | 8/10 [00:10<00:02,  1.22s/trial, best loss: 0.002590209558383032]"
     ]
    },
    {
     "name": "stderr",
     "output_type": "stream",
     "text": [
      "Created version '18' of model 'xgb-regressor'.\n",
      "/Users/nirmal/Documents/np_dsci_codes/.venv/lib/python3.11/site-packages/mlflow/models/signature.py:212: UserWarning: Hint: Inferred schema contains integer column(s). Integer columns in Python cannot represent missing values. If your input data contains missing values at inference time, it will be encoded as floats and will cause a schema enforcement error. The best way to avoid this problem is to infer the model schema based on a realistic data sample (training dataset) that includes missing values. Alternatively, you can declare integer columns as doubles (float64) whenever these columns may have missing values. See `Handling Integers With Missing Values <https://www.mlflow.org/docs/latest/models.html#handling-integers-with-missing-values>`_ for more details.\n",
      "  inputs = _infer_schema(model_input) if model_input is not None else None\n",
      "\n",
      "/Users/nirmal/Documents/np_dsci_codes/.venv/lib/python3.11/site-packages/_distutils_hack/__init__.py:18: UserWarning: Distutils was imported before Setuptools, but importing Setuptools also replaces the `distutils` module in `sys.modules`. This may lead to undesirable behaviors or errors. To avoid these issues, avoid using distutils directly, ensure that setuptools is installed in the traditional way (e.g. not an editable install), and/or make sure that setuptools is always imported before distutils.\n",
      "  warnings.warn(\n",
      "\n",
      "/Users/nirmal/Documents/np_dsci_codes/.venv/lib/python3.11/site-packages/_distutils_hack/__init__.py:33: UserWarning: Setuptools is replacing distutils.\n",
      "  warnings.warn(\"Setuptools is replacing distutils.\")\n",
      "\n",
      "Registered model 'xgb-regressor' already exists. Creating a new version of this model...\n",
      "2023/11/04 18:11:01 INFO mlflow.tracking._model_registry.client: Waiting up to 300 seconds for model version to finish creation. Model name: xgb-regressor, version 19\n",
      "\n"
     ]
    },
    {
     "name": "stdout",
     "output_type": "stream",
     "text": [
      " 90%|█████████ | 9/10 [00:11<00:01,  1.20s/trial, best loss: 0.002590209558383032]"
     ]
    },
    {
     "name": "stderr",
     "output_type": "stream",
     "text": [
      "Created version '19' of model 'xgb-regressor'.\n",
      "/Users/nirmal/Documents/np_dsci_codes/.venv/lib/python3.11/site-packages/mlflow/models/signature.py:212: UserWarning: Hint: Inferred schema contains integer column(s). Integer columns in Python cannot represent missing values. If your input data contains missing values at inference time, it will be encoded as floats and will cause a schema enforcement error. The best way to avoid this problem is to infer the model schema based on a realistic data sample (training dataset) that includes missing values. Alternatively, you can declare integer columns as doubles (float64) whenever these columns may have missing values. See `Handling Integers With Missing Values <https://www.mlflow.org/docs/latest/models.html#handling-integers-with-missing-values>`_ for more details.\n",
      "  inputs = _infer_schema(model_input) if model_input is not None else None\n",
      "\n",
      "/Users/nirmal/Documents/np_dsci_codes/.venv/lib/python3.11/site-packages/_distutils_hack/__init__.py:18: UserWarning: Distutils was imported before Setuptools, but importing Setuptools also replaces the `distutils` module in `sys.modules`. This may lead to undesirable behaviors or errors. To avoid these issues, avoid using distutils directly, ensure that setuptools is installed in the traditional way (e.g. not an editable install), and/or make sure that setuptools is always imported before distutils.\n",
      "  warnings.warn(\n",
      "\n",
      "/Users/nirmal/Documents/np_dsci_codes/.venv/lib/python3.11/site-packages/_distutils_hack/__init__.py:33: UserWarning: Setuptools is replacing distutils.\n",
      "  warnings.warn(\"Setuptools is replacing distutils.\")\n",
      "\n",
      "Registered model 'xgb-regressor' already exists. Creating a new version of this model...\n",
      "2023/11/04 18:11:02 INFO mlflow.tracking._model_registry.client: Waiting up to 300 seconds for model version to finish creation. Model name: xgb-regressor, version 20\n",
      "\n"
     ]
    },
    {
     "name": "stdout",
     "output_type": "stream",
     "text": [
      "100%|██████████| 10/10 [00:12<00:00,  1.30s/trial, best loss: 0.0017898752574609157]\n"
     ]
    },
    {
     "name": "stderr",
     "output_type": "stream",
     "text": [
      "Created version '20' of model 'xgb-regressor'.\n"
     ]
    }
   ],
   "source": [
    "best_results = fmin(fn=objective,\n",
    "                    space=search_space,\n",
    "                    algo=tpe.suggest,\n",
    "                    max_evals=10,\n",
    "                    trials=Trials())"
   ]
  },
  {
   "cell_type": "code",
   "execution_count": null,
   "metadata": {},
   "outputs": [],
   "source": []
  }
 ],
 "metadata": {
  "kernelspec": {
   "display_name": ".venv",
   "language": "python",
   "name": "python3"
  },
  "language_info": {
   "codemirror_mode": {
    "name": "ipython",
    "version": 3
   },
   "file_extension": ".py",
   "mimetype": "text/x-python",
   "name": "python",
   "nbconvert_exporter": "python",
   "pygments_lexer": "ipython3",
   "version": "3.11.2"
  }
 },
 "nbformat": 4,
 "nbformat_minor": 2
}
