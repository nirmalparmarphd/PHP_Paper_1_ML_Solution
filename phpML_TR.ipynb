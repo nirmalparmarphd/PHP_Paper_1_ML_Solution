{
 "cells": [
  {
   "cell_type": "code",
   "execution_count": 1,
   "metadata": {},
   "outputs": [
    {
     "name": "stderr",
     "output_type": "stream",
     "text": [
      "/Users/nirmal/Documents/np_dsci_codes/.venv/lib/python3.11/site-packages/pydantic/_internal/_fields.py:128: UserWarning: Field \"model_server_url\" has conflict with protected namespace \"model_\".\n",
      "\n",
      "You may be able to resolve this warning by setting `model_config['protected_namespaces'] = ()`.\n",
      "  warnings.warn(\n",
      "/Users/nirmal/Documents/np_dsci_codes/.venv/lib/python3.11/site-packages/pydantic/_internal/_config.py:317: UserWarning: Valid config keys have changed in V2:\n",
      "* 'schema_extra' has been renamed to 'json_schema_extra'\n",
      "  warnings.warn(message, UserWarning)\n",
      "IProgress not found. Please update jupyter and ipywidgets. See https://ipywidgets.readthedocs.io/en/stable/user_install.html\n"
     ]
    }
   ],
   "source": [
    "import pandas as pd\n",
    "import numpy as np\n",
    "import matplotlib.pyplot as plt\n",
    "from sklearn.feature_selection import mutual_info_regression\n",
    "from sklearn.model_selection import train_test_split\n",
    "from sklearn.metrics import mean_absolute_error, r2_score, mean_squared_error\n",
    "from sklearn.model_selection import train_test_split\n",
    "from sklearn import metrics\n",
    "from sklearn.pipeline import Pipeline, make_pipeline\n",
    "from sklearn.preprocessing import OneHotEncoder, StandardScaler\n",
    "from sklearn.compose import ColumnTransformer\n",
    "import seaborn as sns\n",
    "sns.set()\n",
    "# ML Models\n",
    "from sklearn.ensemble import RandomForestRegressor\n",
    "from sklearn.linear_model import LinearRegression, ElasticNet\n",
    "from sklearn.ensemble import GradientBoostingRegressor\n",
    "from sklearn.svm import SVR\n",
    "from sklearn.neighbors import KNeighborsRegressor\n",
    "\n",
    "from sklearn.model_selection import cross_val_score\n",
    "import xgboost as xgb\n",
    "# tune\n",
    "from hyperopt import fmin, tpe, hp, STATUS_OK, Trials, STATUS_FAIL\n",
    "from mlflow.sklearn import log_model, save_model\n",
    "from mlflow.tracking import MlflowClient\n",
    "import mlflow.xgboost\n",
    "import mlflow.sklearn\n",
    "import mlflow\n",
    "from mlflow.models.signature import infer_signature\n",
    "from urllib.parse import urlparse\n",
    "import shap\n",
    "import logging\n",
    "import sys\n",
    "import warnings\n",
    "import traceback"
   ]
  },
  {
   "cell_type": "code",
   "execution_count": 2,
   "metadata": {},
   "outputs": [],
   "source": [
    "from mlflow import MlflowClient\n",
    "client = MlflowClient(tracking_uri=\"http://127.0.0.1:5000\")"
   ]
  },
  {
   "cell_type": "code",
   "execution_count": 3,
   "metadata": {},
   "outputs": [],
   "source": [
    "\n",
    "## data loading\n",
    "df = pd.read_csv('data/php_data_all.csv', index_col=0)\n",
    "# selecting data according to temperature range\n",
    "# NOTE: Data selected between [300, 355]\n",
    "df = df[(df['Te[K]'] > 300) & (df['Te[K]'] < 355)]\n"
   ]
  },
  {
   "cell_type": "markdown",
   "metadata": {},
   "source": [
    "# TR Prediction"
   ]
  },
  {
   "cell_type": "code",
   "execution_count": 4,
   "metadata": {},
   "outputs": [],
   "source": [
    "## data split\n",
    "x = df[['Te[K]', 'P[bar]', 'Q[W]', 'Fluid', 'FR']]\n",
    "y = df['TR[K/W]']\n",
    "x_train, x_test, y_train, y_test = train_test_split(x, y, test_size=0.2, random_state=42)\n",
    "\n",
    "## data pipeline preparation\n",
    "numeric_features = ['Te[K]', 'P[bar]', 'Q[W]','FR']\n",
    "categorical_features = ['Fluid']\n",
    "\n",
    "numeric_transformer = make_pipeline(StandardScaler())\n",
    "categorical_tranformer = make_pipeline(OneHotEncoder(sparse_output=False, handle_unknown='ignore'))\n",
    "\n",
    "preprocessor = ColumnTransformer(\n",
    "    transformers=[\n",
    "    ('num', numeric_transformer, numeric_features),\n",
    "    ('cat', categorical_tranformer, categorical_features)\n",
    "    ])\n",
    "\n",
    "\n",
    "## a function to evaluate a trained ML model\n",
    "def evaluate(y_test, y_pred, k=6):\n",
    "    rmse = np.sqrt(mean_squared_error(y_test, y_pred))\n",
    "    mae = mean_absolute_error(y_test, y_pred)\n",
    "    r2 = r2_score(y_test, y_pred)\n",
    "    n = y_test.shape[0]\n",
    "    k = k\n",
    "    r2_adj = 1 - (((1-r2)*(n-1)) / (n-k-1))\n",
    "    return rmse, mae, r2, r2_adj"
   ]
  },
  {
   "cell_type": "code",
   "execution_count": 5,
   "metadata": {},
   "outputs": [
    {
     "name": "stderr",
     "output_type": "stream",
     "text": [
      "2023/12/02 23:56:13 INFO mlflow.tracking.fluent: Experiment with name 'CLPHP_TR_Prediction' does not exist. Creating a new experiment.\n"
     ]
    }
   ],
   "source": [
    "## objective of a ML model training\n",
    "# mlflow manual logging of metrics and model\n",
    "experiment_name = 'CLPHP_TR_Prediction'\n",
    "mlflow.set_experiment(experiment_name)\n",
    "## Model dictionary\n",
    "models = [\n",
    "    {\n",
    "        'name': 'XGBoost',\n",
    "        'model': xgb.XGBRegressor,\n",
    "        'search_space': {\n",
    "            'eta': hp.uniform('eta', 0.1, 1),\n",
    "            'max_depth': hp.randint('max_depth', 2, 5)\n",
    "        }\n",
    "    },\n",
    "    {\n",
    "        'name': 'Random Forest',\n",
    "        'model': RandomForestRegressor,\n",
    "        'search_space': {\n",
    "            'n_estimators': hp.randint('n_estimators', 11, 101),\n",
    "            'max_depth': hp.randint('max_depth', 2, 20)\n",
    "        }\n",
    "    },\n",
    "    # {\n",
    "    #     'name': 'Linear Regression',\n",
    "    #     'model': LinearRegression,\n",
    "    #     'search_space': {}  # No hyperparameters for Linear Regression\n",
    "    # },\n",
    "    # {\n",
    "    #     'name': 'Elastic Net',\n",
    "    #     'model': ElasticNet,\n",
    "    #     'search_space': {\n",
    "    #         'alpha': hp.uniform('alpha', 0.1, 1),\n",
    "    #         'l1_ratio': hp.uniform('l1_ratio', 0.1, 0.9)\n",
    "    #     }\n",
    "    # },\n",
    "    {\n",
    "        'name': 'Gradient Boosting',\n",
    "        'model': GradientBoostingRegressor,\n",
    "        'search_space': {\n",
    "            'n_estimators': hp.randint('n_estimators', 50, 150),\n",
    "            'learning_rate': hp.uniform('learning_rate', 0.01, 0.1),\n",
    "            'max_depth': hp.randint('max_depth', 2, 10)\n",
    "        }\n",
    "    },\n",
    "    {\n",
    "        'name': 'Support Vector Machine',\n",
    "        'model': SVR,\n",
    "        'search_space': {\n",
    "            'C': hp.loguniform('C', -5, 2),\n",
    "            'kernel': hp.choice('kernel', ['linear', 'rbf', 'poly']),\n",
    "            'degree': hp.randint('degree', 2, 5)\n",
    "        }\n",
    "    },\n",
    "    {\n",
    "        'name': 'K-Nearest Neighbors',\n",
    "        'model': KNeighborsRegressor,\n",
    "        'search_space': {\n",
    "            'n_neighbors': hp.randint('n_neighbors', 3, 20),\n",
    "            'weights': hp.choice('weights', ['uniform', 'distance']),\n",
    "            'p': hp.choice('p', [1, 2])\n",
    "        }\n",
    "    }\n",
    "]"
   ]
  },
  {
   "cell_type": "code",
   "execution_count": 6,
   "metadata": {},
   "outputs": [
    {
     "name": "stdout",
     "output_type": "stream",
     "text": [
      "  0%|          | 0/10 [00:00<?, ?trial/s, best loss=?]"
     ]
    },
    {
     "name": "stderr",
     "output_type": "stream",
     "text": [
      "Hint: Inferred schema contains integer column(s). Integer columns in Python cannot represent missing values. If your input data contains missing values at inference time, it will be encoded as floats and will cause a schema enforcement error. The best way to avoid this problem is to infer the model schema based on a realistic data sample (training dataset) that includes missing values. Alternatively, you can declare integer columns as doubles (float64) whenever these columns may have missing values. See `Handling Integers With Missing Values <https://www.mlflow.org/docs/latest/models.html#handling-integers-with-missing-values>`_ for more details.\n",
      "\n"
     ]
    },
    {
     "name": "stdout",
     "output_type": "stream",
     "text": [
      " 10%|█         | 1/10 [00:02<00:20,  2.32s/trial, best loss: 0.01984032860063942]"
     ]
    },
    {
     "name": "stderr",
     "output_type": "stream",
     "text": [
      "Successfully registered model 'xgboost-regressor-tr'.\n",
      "Created version '1' of model 'xgboost-regressor-tr'.\n",
      "Hint: Inferred schema contains integer column(s). Integer columns in Python cannot represent missing values. If your input data contains missing values at inference time, it will be encoded as floats and will cause a schema enforcement error. The best way to avoid this problem is to infer the model schema based on a realistic data sample (training dataset) that includes missing values. Alternatively, you can declare integer columns as doubles (float64) whenever these columns may have missing values. See `Handling Integers With Missing Values <https://www.mlflow.org/docs/latest/models.html#handling-integers-with-missing-values>`_ for more details.\n",
      "\n"
     ]
    },
    {
     "name": "stdout",
     "output_type": "stream",
     "text": [
      " 20%|██        | 2/10 [00:03<00:14,  1.85s/trial, best loss: 0.018648462165829383]"
     ]
    },
    {
     "name": "stderr",
     "output_type": "stream",
     "text": [
      "Distutils was imported before Setuptools, but importing Setuptools also replaces the `distutils` module in `sys.modules`. This may lead to undesirable behaviors or errors. To avoid these issues, avoid using distutils directly, ensure that setuptools is installed in the traditional way (e.g. not an editable install), and/or make sure that setuptools is always imported before distutils.\n",
      "\n",
      "Setuptools is replacing distutils.\n",
      "\n",
      "Registered model 'xgboost-regressor-tr' already exists. Creating a new version of this model...\n",
      "Created version '2' of model 'xgboost-regressor-tr'.\n",
      "Hint: Inferred schema contains integer column(s). Integer columns in Python cannot represent missing values. If your input data contains missing values at inference time, it will be encoded as floats and will cause a schema enforcement error. The best way to avoid this problem is to infer the model schema based on a realistic data sample (training dataset) that includes missing values. Alternatively, you can declare integer columns as doubles (float64) whenever these columns may have missing values. See `Handling Integers With Missing Values <https://www.mlflow.org/docs/latest/models.html#handling-integers-with-missing-values>`_ for more details.\n",
      "\n"
     ]
    },
    {
     "name": "stdout",
     "output_type": "stream",
     "text": [
      " 30%|███       | 3/10 [00:05<00:12,  1.76s/trial, best loss: 0.018648462165829383]"
     ]
    },
    {
     "name": "stderr",
     "output_type": "stream",
     "text": [
      "Distutils was imported before Setuptools, but importing Setuptools also replaces the `distutils` module in `sys.modules`. This may lead to undesirable behaviors or errors. To avoid these issues, avoid using distutils directly, ensure that setuptools is installed in the traditional way (e.g. not an editable install), and/or make sure that setuptools is always imported before distutils.\n",
      "\n",
      "Setuptools is replacing distutils.\n",
      "\n",
      "Registered model 'xgboost-regressor-tr' already exists. Creating a new version of this model...\n",
      "Created version '3' of model 'xgboost-regressor-tr'.\n",
      "Hint: Inferred schema contains integer column(s). Integer columns in Python cannot represent missing values. If your input data contains missing values at inference time, it will be encoded as floats and will cause a schema enforcement error. The best way to avoid this problem is to infer the model schema based on a realistic data sample (training dataset) that includes missing values. Alternatively, you can declare integer columns as doubles (float64) whenever these columns may have missing values. See `Handling Integers With Missing Values <https://www.mlflow.org/docs/latest/models.html#handling-integers-with-missing-values>`_ for more details.\n",
      "\n"
     ]
    },
    {
     "name": "stdout",
     "output_type": "stream",
     "text": [
      " 40%|████      | 4/10 [00:07<00:10,  1.72s/trial, best loss: 0.018648462165829383]"
     ]
    },
    {
     "name": "stderr",
     "output_type": "stream",
     "text": [
      "Distutils was imported before Setuptools, but importing Setuptools also replaces the `distutils` module in `sys.modules`. This may lead to undesirable behaviors or errors. To avoid these issues, avoid using distutils directly, ensure that setuptools is installed in the traditional way (e.g. not an editable install), and/or make sure that setuptools is always imported before distutils.\n",
      "\n",
      "Setuptools is replacing distutils.\n",
      "\n",
      "Registered model 'xgboost-regressor-tr' already exists. Creating a new version of this model...\n",
      "Created version '4' of model 'xgboost-regressor-tr'.\n",
      "Hint: Inferred schema contains integer column(s). Integer columns in Python cannot represent missing values. If your input data contains missing values at inference time, it will be encoded as floats and will cause a schema enforcement error. The best way to avoid this problem is to infer the model schema based on a realistic data sample (training dataset) that includes missing values. Alternatively, you can declare integer columns as doubles (float64) whenever these columns may have missing values. See `Handling Integers With Missing Values <https://www.mlflow.org/docs/latest/models.html#handling-integers-with-missing-values>`_ for more details.\n",
      "\n"
     ]
    },
    {
     "name": "stdout",
     "output_type": "stream",
     "text": [
      " 50%|█████     | 5/10 [00:08<00:08,  1.65s/trial, best loss: 0.018648462165829383]"
     ]
    },
    {
     "name": "stderr",
     "output_type": "stream",
     "text": [
      "Distutils was imported before Setuptools, but importing Setuptools also replaces the `distutils` module in `sys.modules`. This may lead to undesirable behaviors or errors. To avoid these issues, avoid using distutils directly, ensure that setuptools is installed in the traditional way (e.g. not an editable install), and/or make sure that setuptools is always imported before distutils.\n",
      "\n",
      "Setuptools is replacing distutils.\n",
      "\n",
      "Registered model 'xgboost-regressor-tr' already exists. Creating a new version of this model...\n",
      "Created version '5' of model 'xgboost-regressor-tr'.\n",
      "Hint: Inferred schema contains integer column(s). Integer columns in Python cannot represent missing values. If your input data contains missing values at inference time, it will be encoded as floats and will cause a schema enforcement error. The best way to avoid this problem is to infer the model schema based on a realistic data sample (training dataset) that includes missing values. Alternatively, you can declare integer columns as doubles (float64) whenever these columns may have missing values. See `Handling Integers With Missing Values <https://www.mlflow.org/docs/latest/models.html#handling-integers-with-missing-values>`_ for more details.\n",
      "\n"
     ]
    },
    {
     "name": "stdout",
     "output_type": "stream",
     "text": [
      " 60%|██████    | 6/10 [00:10<00:06,  1.63s/trial, best loss: 0.018648462165829383]"
     ]
    },
    {
     "name": "stderr",
     "output_type": "stream",
     "text": [
      "Distutils was imported before Setuptools, but importing Setuptools also replaces the `distutils` module in `sys.modules`. This may lead to undesirable behaviors or errors. To avoid these issues, avoid using distutils directly, ensure that setuptools is installed in the traditional way (e.g. not an editable install), and/or make sure that setuptools is always imported before distutils.\n",
      "\n",
      "Setuptools is replacing distutils.\n",
      "\n",
      "Registered model 'xgboost-regressor-tr' already exists. Creating a new version of this model...\n",
      "Created version '6' of model 'xgboost-regressor-tr'.\n",
      "Hint: Inferred schema contains integer column(s). Integer columns in Python cannot represent missing values. If your input data contains missing values at inference time, it will be encoded as floats and will cause a schema enforcement error. The best way to avoid this problem is to infer the model schema based on a realistic data sample (training dataset) that includes missing values. Alternatively, you can declare integer columns as doubles (float64) whenever these columns may have missing values. See `Handling Integers With Missing Values <https://www.mlflow.org/docs/latest/models.html#handling-integers-with-missing-values>`_ for more details.\n",
      "\n"
     ]
    },
    {
     "name": "stdout",
     "output_type": "stream",
     "text": [
      " 70%|███████   | 7/10 [00:11<00:04,  1.61s/trial, best loss: 0.018648462165829383]"
     ]
    },
    {
     "name": "stderr",
     "output_type": "stream",
     "text": [
      "Distutils was imported before Setuptools, but importing Setuptools also replaces the `distutils` module in `sys.modules`. This may lead to undesirable behaviors or errors. To avoid these issues, avoid using distutils directly, ensure that setuptools is installed in the traditional way (e.g. not an editable install), and/or make sure that setuptools is always imported before distutils.\n",
      "\n",
      "Setuptools is replacing distutils.\n",
      "\n",
      "Registered model 'xgboost-regressor-tr' already exists. Creating a new version of this model...\n",
      "Created version '7' of model 'xgboost-regressor-tr'.\n",
      "Hint: Inferred schema contains integer column(s). Integer columns in Python cannot represent missing values. If your input data contains missing values at inference time, it will be encoded as floats and will cause a schema enforcement error. The best way to avoid this problem is to infer the model schema based on a realistic data sample (training dataset) that includes missing values. Alternatively, you can declare integer columns as doubles (float64) whenever these columns may have missing values. See `Handling Integers With Missing Values <https://www.mlflow.org/docs/latest/models.html#handling-integers-with-missing-values>`_ for more details.\n",
      "\n"
     ]
    },
    {
     "name": "stdout",
     "output_type": "stream",
     "text": [
      " 80%|████████  | 8/10 [00:13<00:03,  1.67s/trial, best loss: 0.018648462165829383]"
     ]
    },
    {
     "name": "stderr",
     "output_type": "stream",
     "text": [
      "Distutils was imported before Setuptools, but importing Setuptools also replaces the `distutils` module in `sys.modules`. This may lead to undesirable behaviors or errors. To avoid these issues, avoid using distutils directly, ensure that setuptools is installed in the traditional way (e.g. not an editable install), and/or make sure that setuptools is always imported before distutils.\n",
      "\n",
      "Setuptools is replacing distutils.\n",
      "\n",
      "Registered model 'xgboost-regressor-tr' already exists. Creating a new version of this model...\n",
      "Created version '8' of model 'xgboost-regressor-tr'.\n",
      "Hint: Inferred schema contains integer column(s). Integer columns in Python cannot represent missing values. If your input data contains missing values at inference time, it will be encoded as floats and will cause a schema enforcement error. The best way to avoid this problem is to infer the model schema based on a realistic data sample (training dataset) that includes missing values. Alternatively, you can declare integer columns as doubles (float64) whenever these columns may have missing values. See `Handling Integers With Missing Values <https://www.mlflow.org/docs/latest/models.html#handling-integers-with-missing-values>`_ for more details.\n",
      "\n"
     ]
    },
    {
     "name": "stdout",
     "output_type": "stream",
     "text": [
      " 90%|█████████ | 9/10 [00:15<00:01,  1.61s/trial, best loss: 0.018648462165829383]"
     ]
    },
    {
     "name": "stderr",
     "output_type": "stream",
     "text": [
      "Distutils was imported before Setuptools, but importing Setuptools also replaces the `distutils` module in `sys.modules`. This may lead to undesirable behaviors or errors. To avoid these issues, avoid using distutils directly, ensure that setuptools is installed in the traditional way (e.g. not an editable install), and/or make sure that setuptools is always imported before distutils.\n",
      "\n",
      "Setuptools is replacing distutils.\n",
      "\n",
      "Registered model 'xgboost-regressor-tr' already exists. Creating a new version of this model...\n",
      "Created version '9' of model 'xgboost-regressor-tr'.\n",
      "Hint: Inferred schema contains integer column(s). Integer columns in Python cannot represent missing values. If your input data contains missing values at inference time, it will be encoded as floats and will cause a schema enforcement error. The best way to avoid this problem is to infer the model schema based on a realistic data sample (training dataset) that includes missing values. Alternatively, you can declare integer columns as doubles (float64) whenever these columns may have missing values. See `Handling Integers With Missing Values <https://www.mlflow.org/docs/latest/models.html#handling-integers-with-missing-values>`_ for more details.\n",
      "\n"
     ]
    },
    {
     "name": "stdout",
     "output_type": "stream",
     "text": [
      "100%|██████████| 10/10 [00:16<00:00,  1.67s/trial, best loss: 0.018648462165829383]"
     ]
    },
    {
     "name": "stderr",
     "output_type": "stream",
     "text": [
      "Distutils was imported before Setuptools, but importing Setuptools also replaces the `distutils` module in `sys.modules`. This may lead to undesirable behaviors or errors. To avoid these issues, avoid using distutils directly, ensure that setuptools is installed in the traditional way (e.g. not an editable install), and/or make sure that setuptools is always imported before distutils.\n",
      "\n",
      "Setuptools is replacing distutils.\n",
      "\n",
      "Registered model 'xgboost-regressor-tr' already exists. Creating a new version of this model...\n",
      "Created version '10' of model 'xgboost-regressor-tr'.\n"
     ]
    },
    {
     "name": "stdout",
     "output_type": "stream",
     "text": [
      "\n"
     ]
    },
    {
     "name": "stderr",
     "output_type": "stream",
     "text": [
      "Registered model 'xgboost-regressor-tr' already exists. Creating a new version of this model...\n",
      "Created version '11' of model 'xgboost-regressor-tr'.\n"
     ]
    },
    {
     "name": "stdout",
     "output_type": "stream",
     "text": [
      "  0%|          | 0/10 [00:00<?, ?trial/s, best loss=?]"
     ]
    },
    {
     "name": "stderr",
     "output_type": "stream",
     "text": [
      "Registered model 'xgboost-regressor-tr' already exists. Creating a new version of this model...\n",
      "Created version '12' of model 'xgboost-regressor-tr'.\n",
      "Hint: Inferred schema contains integer column(s). Integer columns in Python cannot represent missing values. If your input data contains missing values at inference time, it will be encoded as floats and will cause a schema enforcement error. The best way to avoid this problem is to infer the model schema based on a realistic data sample (training dataset) that includes missing values. Alternatively, you can declare integer columns as doubles (float64) whenever these columns may have missing values. See `Handling Integers With Missing Values <https://www.mlflow.org/docs/latest/models.html#handling-integers-with-missing-values>`_ for more details.\n",
      "\n"
     ]
    },
    {
     "name": "stdout",
     "output_type": "stream",
     "text": [
      " 10%|█         | 1/10 [00:01<00:17,  1.94s/trial, best loss: 0.01749699775613286]"
     ]
    },
    {
     "name": "stderr",
     "output_type": "stream",
     "text": [
      "Distutils was imported before Setuptools, but importing Setuptools also replaces the `distutils` module in `sys.modules`. This may lead to undesirable behaviors or errors. To avoid these issues, avoid using distutils directly, ensure that setuptools is installed in the traditional way (e.g. not an editable install), and/or make sure that setuptools is always imported before distutils.\n",
      "\n",
      "Setuptools is replacing distutils.\n",
      "\n",
      "Successfully registered model 'random forest-regressor-tr'.\n",
      "Created version '1' of model 'random forest-regressor-tr'.\n",
      "Hint: Inferred schema contains integer column(s). Integer columns in Python cannot represent missing values. If your input data contains missing values at inference time, it will be encoded as floats and will cause a schema enforcement error. The best way to avoid this problem is to infer the model schema based on a realistic data sample (training dataset) that includes missing values. Alternatively, you can declare integer columns as doubles (float64) whenever these columns may have missing values. See `Handling Integers With Missing Values <https://www.mlflow.org/docs/latest/models.html#handling-integers-with-missing-values>`_ for more details.\n",
      "\n"
     ]
    },
    {
     "name": "stdout",
     "output_type": "stream",
     "text": [
      " 20%|██        | 2/10 [00:04<00:18,  2.36s/trial, best loss: 0.01715033614244686]"
     ]
    },
    {
     "name": "stderr",
     "output_type": "stream",
     "text": [
      "Distutils was imported before Setuptools, but importing Setuptools also replaces the `distutils` module in `sys.modules`. This may lead to undesirable behaviors or errors. To avoid these issues, avoid using distutils directly, ensure that setuptools is installed in the traditional way (e.g. not an editable install), and/or make sure that setuptools is always imported before distutils.\n",
      "\n",
      "Setuptools is replacing distutils.\n",
      "\n",
      "Registered model 'random forest-regressor-tr' already exists. Creating a new version of this model...\n",
      "Created version '2' of model 'random forest-regressor-tr'.\n",
      "Hint: Inferred schema contains integer column(s). Integer columns in Python cannot represent missing values. If your input data contains missing values at inference time, it will be encoded as floats and will cause a schema enforcement error. The best way to avoid this problem is to infer the model schema based on a realistic data sample (training dataset) that includes missing values. Alternatively, you can declare integer columns as doubles (float64) whenever these columns may have missing values. See `Handling Integers With Missing Values <https://www.mlflow.org/docs/latest/models.html#handling-integers-with-missing-values>`_ for more details.\n",
      "\n"
     ]
    },
    {
     "name": "stdout",
     "output_type": "stream",
     "text": [
      " 30%|███       | 3/10 [00:06<00:13,  1.94s/trial, best loss: 0.01715033614244686]"
     ]
    },
    {
     "name": "stderr",
     "output_type": "stream",
     "text": [
      "Distutils was imported before Setuptools, but importing Setuptools also replaces the `distutils` module in `sys.modules`. This may lead to undesirable behaviors or errors. To avoid these issues, avoid using distutils directly, ensure that setuptools is installed in the traditional way (e.g. not an editable install), and/or make sure that setuptools is always imported before distutils.\n",
      "\n",
      "Setuptools is replacing distutils.\n",
      "\n",
      "Registered model 'random forest-regressor-tr' already exists. Creating a new version of this model...\n",
      "Created version '3' of model 'random forest-regressor-tr'.\n",
      "Hint: Inferred schema contains integer column(s). Integer columns in Python cannot represent missing values. If your input data contains missing values at inference time, it will be encoded as floats and will cause a schema enforcement error. The best way to avoid this problem is to infer the model schema based on a realistic data sample (training dataset) that includes missing values. Alternatively, you can declare integer columns as doubles (float64) whenever these columns may have missing values. See `Handling Integers With Missing Values <https://www.mlflow.org/docs/latest/models.html#handling-integers-with-missing-values>`_ for more details.\n",
      "\n"
     ]
    },
    {
     "name": "stdout",
     "output_type": "stream",
     "text": [
      " 40%|████      | 4/10 [00:08<00:13,  2.28s/trial, best loss: 0.01715033614244686]"
     ]
    },
    {
     "name": "stderr",
     "output_type": "stream",
     "text": [
      "Distutils was imported before Setuptools, but importing Setuptools also replaces the `distutils` module in `sys.modules`. This may lead to undesirable behaviors or errors. To avoid these issues, avoid using distutils directly, ensure that setuptools is installed in the traditional way (e.g. not an editable install), and/or make sure that setuptools is always imported before distutils.\n",
      "\n",
      "Setuptools is replacing distutils.\n",
      "\n",
      "Registered model 'random forest-regressor-tr' already exists. Creating a new version of this model...\n",
      "Created version '4' of model 'random forest-regressor-tr'.\n",
      "Hint: Inferred schema contains integer column(s). Integer columns in Python cannot represent missing values. If your input data contains missing values at inference time, it will be encoded as floats and will cause a schema enforcement error. The best way to avoid this problem is to infer the model schema based on a realistic data sample (training dataset) that includes missing values. Alternatively, you can declare integer columns as doubles (float64) whenever these columns may have missing values. See `Handling Integers With Missing Values <https://www.mlflow.org/docs/latest/models.html#handling-integers-with-missing-values>`_ for more details.\n",
      "\n"
     ]
    },
    {
     "name": "stdout",
     "output_type": "stream",
     "text": [
      " 50%|█████     | 5/10 [00:10<00:10,  2.13s/trial, best loss: 0.01715033614244686]"
     ]
    },
    {
     "name": "stderr",
     "output_type": "stream",
     "text": [
      "Distutils was imported before Setuptools, but importing Setuptools also replaces the `distutils` module in `sys.modules`. This may lead to undesirable behaviors or errors. To avoid these issues, avoid using distutils directly, ensure that setuptools is installed in the traditional way (e.g. not an editable install), and/or make sure that setuptools is always imported before distutils.\n",
      "\n",
      "Setuptools is replacing distutils.\n",
      "\n",
      "Registered model 'random forest-regressor-tr' already exists. Creating a new version of this model...\n",
      "Created version '5' of model 'random forest-regressor-tr'.\n",
      "Hint: Inferred schema contains integer column(s). Integer columns in Python cannot represent missing values. If your input data contains missing values at inference time, it will be encoded as floats and will cause a schema enforcement error. The best way to avoid this problem is to infer the model schema based on a realistic data sample (training dataset) that includes missing values. Alternatively, you can declare integer columns as doubles (float64) whenever these columns may have missing values. See `Handling Integers With Missing Values <https://www.mlflow.org/docs/latest/models.html#handling-integers-with-missing-values>`_ for more details.\n",
      "\n"
     ]
    },
    {
     "name": "stdout",
     "output_type": "stream",
     "text": [
      " 60%|██████    | 6/10 [00:12<00:08,  2.13s/trial, best loss: 0.01715033614244686]"
     ]
    },
    {
     "name": "stderr",
     "output_type": "stream",
     "text": [
      "Distutils was imported before Setuptools, but importing Setuptools also replaces the `distutils` module in `sys.modules`. This may lead to undesirable behaviors or errors. To avoid these issues, avoid using distutils directly, ensure that setuptools is installed in the traditional way (e.g. not an editable install), and/or make sure that setuptools is always imported before distutils.\n",
      "\n",
      "Setuptools is replacing distutils.\n",
      "\n",
      "Registered model 'random forest-regressor-tr' already exists. Creating a new version of this model...\n",
      "Created version '6' of model 'random forest-regressor-tr'.\n",
      "Hint: Inferred schema contains integer column(s). Integer columns in Python cannot represent missing values. If your input data contains missing values at inference time, it will be encoded as floats and will cause a schema enforcement error. The best way to avoid this problem is to infer the model schema based on a realistic data sample (training dataset) that includes missing values. Alternatively, you can declare integer columns as doubles (float64) whenever these columns may have missing values. See `Handling Integers With Missing Values <https://www.mlflow.org/docs/latest/models.html#handling-integers-with-missing-values>`_ for more details.\n",
      "\n"
     ]
    },
    {
     "name": "stdout",
     "output_type": "stream",
     "text": [
      " 70%|███████   | 7/10 [00:15<00:06,  2.29s/trial, best loss: 0.01715033614244686]"
     ]
    },
    {
     "name": "stderr",
     "output_type": "stream",
     "text": [
      "Distutils was imported before Setuptools, but importing Setuptools also replaces the `distutils` module in `sys.modules`. This may lead to undesirable behaviors or errors. To avoid these issues, avoid using distutils directly, ensure that setuptools is installed in the traditional way (e.g. not an editable install), and/or make sure that setuptools is always imported before distutils.\n",
      "\n",
      "Setuptools is replacing distutils.\n",
      "\n",
      "Registered model 'random forest-regressor-tr' already exists. Creating a new version of this model...\n",
      "Created version '7' of model 'random forest-regressor-tr'.\n",
      "Hint: Inferred schema contains integer column(s). Integer columns in Python cannot represent missing values. If your input data contains missing values at inference time, it will be encoded as floats and will cause a schema enforcement error. The best way to avoid this problem is to infer the model schema based on a realistic data sample (training dataset) that includes missing values. Alternatively, you can declare integer columns as doubles (float64) whenever these columns may have missing values. See `Handling Integers With Missing Values <https://www.mlflow.org/docs/latest/models.html#handling-integers-with-missing-values>`_ for more details.\n",
      "\n"
     ]
    },
    {
     "name": "stdout",
     "output_type": "stream",
     "text": [
      " 80%|████████  | 8/10 [00:17<00:04,  2.15s/trial, best loss: 0.01715033614244686]"
     ]
    },
    {
     "name": "stderr",
     "output_type": "stream",
     "text": [
      "Distutils was imported before Setuptools, but importing Setuptools also replaces the `distutils` module in `sys.modules`. This may lead to undesirable behaviors or errors. To avoid these issues, avoid using distutils directly, ensure that setuptools is installed in the traditional way (e.g. not an editable install), and/or make sure that setuptools is always imported before distutils.\n",
      "\n",
      "Setuptools is replacing distutils.\n",
      "\n",
      "Registered model 'random forest-regressor-tr' already exists. Creating a new version of this model...\n",
      "Created version '8' of model 'random forest-regressor-tr'.\n",
      "Hint: Inferred schema contains integer column(s). Integer columns in Python cannot represent missing values. If your input data contains missing values at inference time, it will be encoded as floats and will cause a schema enforcement error. The best way to avoid this problem is to infer the model schema based on a realistic data sample (training dataset) that includes missing values. Alternatively, you can declare integer columns as doubles (float64) whenever these columns may have missing values. See `Handling Integers With Missing Values <https://www.mlflow.org/docs/latest/models.html#handling-integers-with-missing-values>`_ for more details.\n",
      "\n"
     ]
    },
    {
     "name": "stdout",
     "output_type": "stream",
     "text": [
      " 90%|█████████ | 9/10 [00:19<00:02,  2.18s/trial, best loss: 0.01715033614244686]"
     ]
    },
    {
     "name": "stderr",
     "output_type": "stream",
     "text": [
      "Distutils was imported before Setuptools, but importing Setuptools also replaces the `distutils` module in `sys.modules`. This may lead to undesirable behaviors or errors. To avoid these issues, avoid using distutils directly, ensure that setuptools is installed in the traditional way (e.g. not an editable install), and/or make sure that setuptools is always imported before distutils.\n",
      "\n",
      "Setuptools is replacing distutils.\n",
      "\n",
      "Registered model 'random forest-regressor-tr' already exists. Creating a new version of this model...\n",
      "Created version '9' of model 'random forest-regressor-tr'.\n",
      "Hint: Inferred schema contains integer column(s). Integer columns in Python cannot represent missing values. If your input data contains missing values at inference time, it will be encoded as floats and will cause a schema enforcement error. The best way to avoid this problem is to infer the model schema based on a realistic data sample (training dataset) that includes missing values. Alternatively, you can declare integer columns as doubles (float64) whenever these columns may have missing values. See `Handling Integers With Missing Values <https://www.mlflow.org/docs/latest/models.html#handling-integers-with-missing-values>`_ for more details.\n",
      "\n"
     ]
    },
    {
     "name": "stdout",
     "output_type": "stream",
     "text": [
      "100%|██████████| 10/10 [00:21<00:00,  2.11s/trial, best loss: 0.01715033614244686]"
     ]
    },
    {
     "name": "stderr",
     "output_type": "stream",
     "text": [
      "Distutils was imported before Setuptools, but importing Setuptools also replaces the `distutils` module in `sys.modules`. This may lead to undesirable behaviors or errors. To avoid these issues, avoid using distutils directly, ensure that setuptools is installed in the traditional way (e.g. not an editable install), and/or make sure that setuptools is always imported before distutils.\n",
      "\n",
      "Setuptools is replacing distutils.\n",
      "\n",
      "Registered model 'random forest-regressor-tr' already exists. Creating a new version of this model...\n",
      "Created version '10' of model 'random forest-regressor-tr'.\n"
     ]
    },
    {
     "name": "stdout",
     "output_type": "stream",
     "text": [
      "\n"
     ]
    },
    {
     "name": "stderr",
     "output_type": "stream",
     "text": [
      "Registered model 'random forest-regressor-tr' already exists. Creating a new version of this model...\n",
      "Created version '11' of model 'random forest-regressor-tr'.\n"
     ]
    },
    {
     "name": "stdout",
     "output_type": "stream",
     "text": [
      "  0%|          | 0/10 [00:00<?, ?trial/s, best loss=?]"
     ]
    },
    {
     "name": "stderr",
     "output_type": "stream",
     "text": [
      "Registered model 'random forest-regressor-tr' already exists. Creating a new version of this model...\n",
      "Created version '12' of model 'random forest-regressor-tr'.\n",
      "Hint: Inferred schema contains integer column(s). Integer columns in Python cannot represent missing values. If your input data contains missing values at inference time, it will be encoded as floats and will cause a schema enforcement error. The best way to avoid this problem is to infer the model schema based on a realistic data sample (training dataset) that includes missing values. Alternatively, you can declare integer columns as doubles (float64) whenever these columns may have missing values. See `Handling Integers With Missing Values <https://www.mlflow.org/docs/latest/models.html#handling-integers-with-missing-values>`_ for more details.\n",
      "\n"
     ]
    },
    {
     "name": "stdout",
     "output_type": "stream",
     "text": [
      " 10%|█         | 1/10 [00:01<00:16,  1.81s/trial, best loss: 0.05422384769049706]"
     ]
    },
    {
     "name": "stderr",
     "output_type": "stream",
     "text": [
      "Distutils was imported before Setuptools, but importing Setuptools also replaces the `distutils` module in `sys.modules`. This may lead to undesirable behaviors or errors. To avoid these issues, avoid using distutils directly, ensure that setuptools is installed in the traditional way (e.g. not an editable install), and/or make sure that setuptools is always imported before distutils.\n",
      "\n",
      "Setuptools is replacing distutils.\n",
      "\n",
      "Successfully registered model 'gradient boosting-regressor-tr'.\n",
      "Created version '1' of model 'gradient boosting-regressor-tr'.\n",
      "Hint: Inferred schema contains integer column(s). Integer columns in Python cannot represent missing values. If your input data contains missing values at inference time, it will be encoded as floats and will cause a schema enforcement error. The best way to avoid this problem is to infer the model schema based on a realistic data sample (training dataset) that includes missing values. Alternatively, you can declare integer columns as doubles (float64) whenever these columns may have missing values. See `Handling Integers With Missing Values <https://www.mlflow.org/docs/latest/models.html#handling-integers-with-missing-values>`_ for more details.\n",
      "\n"
     ]
    },
    {
     "name": "stdout",
     "output_type": "stream",
     "text": [
      " 20%|██        | 2/10 [00:03<00:14,  1.79s/trial, best loss: 0.02637363728702394]"
     ]
    },
    {
     "name": "stderr",
     "output_type": "stream",
     "text": [
      "Distutils was imported before Setuptools, but importing Setuptools also replaces the `distutils` module in `sys.modules`. This may lead to undesirable behaviors or errors. To avoid these issues, avoid using distutils directly, ensure that setuptools is installed in the traditional way (e.g. not an editable install), and/or make sure that setuptools is always imported before distutils.\n",
      "\n",
      "Setuptools is replacing distutils.\n",
      "\n",
      "Registered model 'gradient boosting-regressor-tr' already exists. Creating a new version of this model...\n",
      "Created version '2' of model 'gradient boosting-regressor-tr'.\n",
      "Hint: Inferred schema contains integer column(s). Integer columns in Python cannot represent missing values. If your input data contains missing values at inference time, it will be encoded as floats and will cause a schema enforcement error. The best way to avoid this problem is to infer the model schema based on a realistic data sample (training dataset) that includes missing values. Alternatively, you can declare integer columns as doubles (float64) whenever these columns may have missing values. See `Handling Integers With Missing Values <https://www.mlflow.org/docs/latest/models.html#handling-integers-with-missing-values>`_ for more details.\n",
      "\n"
     ]
    },
    {
     "name": "stdout",
     "output_type": "stream",
     "text": [
      " 30%|███       | 3/10 [00:05<00:14,  2.05s/trial, best loss: 0.018643740885920846]"
     ]
    },
    {
     "name": "stderr",
     "output_type": "stream",
     "text": [
      "Distutils was imported before Setuptools, but importing Setuptools also replaces the `distutils` module in `sys.modules`. This may lead to undesirable behaviors or errors. To avoid these issues, avoid using distutils directly, ensure that setuptools is installed in the traditional way (e.g. not an editable install), and/or make sure that setuptools is always imported before distutils.\n",
      "\n",
      "Setuptools is replacing distutils.\n",
      "\n",
      "Registered model 'gradient boosting-regressor-tr' already exists. Creating a new version of this model...\n",
      "Created version '3' of model 'gradient boosting-regressor-tr'.\n",
      "Hint: Inferred schema contains integer column(s). Integer columns in Python cannot represent missing values. If your input data contains missing values at inference time, it will be encoded as floats and will cause a schema enforcement error. The best way to avoid this problem is to infer the model schema based on a realistic data sample (training dataset) that includes missing values. Alternatively, you can declare integer columns as doubles (float64) whenever these columns may have missing values. See `Handling Integers With Missing Values <https://www.mlflow.org/docs/latest/models.html#handling-integers-with-missing-values>`_ for more details.\n",
      "\n"
     ]
    },
    {
     "name": "stdout",
     "output_type": "stream",
     "text": [
      " 40%|████      | 4/10 [00:08<00:14,  2.38s/trial, best loss: 0.018133159886421963]"
     ]
    },
    {
     "name": "stderr",
     "output_type": "stream",
     "text": [
      "Distutils was imported before Setuptools, but importing Setuptools also replaces the `distutils` module in `sys.modules`. This may lead to undesirable behaviors or errors. To avoid these issues, avoid using distutils directly, ensure that setuptools is installed in the traditional way (e.g. not an editable install), and/or make sure that setuptools is always imported before distutils.\n",
      "\n",
      "Setuptools is replacing distutils.\n",
      "\n",
      "Registered model 'gradient boosting-regressor-tr' already exists. Creating a new version of this model...\n",
      "Created version '4' of model 'gradient boosting-regressor-tr'.\n",
      "Hint: Inferred schema contains integer column(s). Integer columns in Python cannot represent missing values. If your input data contains missing values at inference time, it will be encoded as floats and will cause a schema enforcement error. The best way to avoid this problem is to infer the model schema based on a realistic data sample (training dataset) that includes missing values. Alternatively, you can declare integer columns as doubles (float64) whenever these columns may have missing values. See `Handling Integers With Missing Values <https://www.mlflow.org/docs/latest/models.html#handling-integers-with-missing-values>`_ for more details.\n",
      "\n"
     ]
    },
    {
     "name": "stdout",
     "output_type": "stream",
     "text": [
      " 50%|█████     | 5/10 [00:10<00:11,  2.24s/trial, best loss: 0.018133159886421963]"
     ]
    },
    {
     "name": "stderr",
     "output_type": "stream",
     "text": [
      "Distutils was imported before Setuptools, but importing Setuptools also replaces the `distutils` module in `sys.modules`. This may lead to undesirable behaviors or errors. To avoid these issues, avoid using distutils directly, ensure that setuptools is installed in the traditional way (e.g. not an editable install), and/or make sure that setuptools is always imported before distutils.\n",
      "\n",
      "Setuptools is replacing distutils.\n",
      "\n",
      "Registered model 'gradient boosting-regressor-tr' already exists. Creating a new version of this model...\n",
      "Created version '5' of model 'gradient boosting-regressor-tr'.\n",
      "Hint: Inferred schema contains integer column(s). Integer columns in Python cannot represent missing values. If your input data contains missing values at inference time, it will be encoded as floats and will cause a schema enforcement error. The best way to avoid this problem is to infer the model schema based on a realistic data sample (training dataset) that includes missing values. Alternatively, you can declare integer columns as doubles (float64) whenever these columns may have missing values. See `Handling Integers With Missing Values <https://www.mlflow.org/docs/latest/models.html#handling-integers-with-missing-values>`_ for more details.\n",
      "\n"
     ]
    },
    {
     "name": "stdout",
     "output_type": "stream",
     "text": [
      " 60%|██████    | 6/10 [00:12<00:08,  2.20s/trial, best loss: 0.018133159886421963]"
     ]
    },
    {
     "name": "stderr",
     "output_type": "stream",
     "text": [
      "Distutils was imported before Setuptools, but importing Setuptools also replaces the `distutils` module in `sys.modules`. This may lead to undesirable behaviors or errors. To avoid these issues, avoid using distutils directly, ensure that setuptools is installed in the traditional way (e.g. not an editable install), and/or make sure that setuptools is always imported before distutils.\n",
      "\n",
      "Setuptools is replacing distutils.\n",
      "\n",
      "Registered model 'gradient boosting-regressor-tr' already exists. Creating a new version of this model...\n",
      "Created version '6' of model 'gradient boosting-regressor-tr'.\n",
      "Hint: Inferred schema contains integer column(s). Integer columns in Python cannot represent missing values. If your input data contains missing values at inference time, it will be encoded as floats and will cause a schema enforcement error. The best way to avoid this problem is to infer the model schema based on a realistic data sample (training dataset) that includes missing values. Alternatively, you can declare integer columns as doubles (float64) whenever these columns may have missing values. See `Handling Integers With Missing Values <https://www.mlflow.org/docs/latest/models.html#handling-integers-with-missing-values>`_ for more details.\n",
      "\n"
     ]
    },
    {
     "name": "stdout",
     "output_type": "stream",
     "text": [
      " 70%|███████   | 7/10 [00:14<00:06,  2.01s/trial, best loss: 0.018133159886421963]"
     ]
    },
    {
     "name": "stderr",
     "output_type": "stream",
     "text": [
      "Distutils was imported before Setuptools, but importing Setuptools also replaces the `distutils` module in `sys.modules`. This may lead to undesirable behaviors or errors. To avoid these issues, avoid using distutils directly, ensure that setuptools is installed in the traditional way (e.g. not an editable install), and/or make sure that setuptools is always imported before distutils.\n",
      "\n",
      "Setuptools is replacing distutils.\n",
      "\n",
      "Registered model 'gradient boosting-regressor-tr' already exists. Creating a new version of this model...\n",
      "Created version '7' of model 'gradient boosting-regressor-tr'.\n",
      "Hint: Inferred schema contains integer column(s). Integer columns in Python cannot represent missing values. If your input data contains missing values at inference time, it will be encoded as floats and will cause a schema enforcement error. The best way to avoid this problem is to infer the model schema based on a realistic data sample (training dataset) that includes missing values. Alternatively, you can declare integer columns as doubles (float64) whenever these columns may have missing values. See `Handling Integers With Missing Values <https://www.mlflow.org/docs/latest/models.html#handling-integers-with-missing-values>`_ for more details.\n",
      "\n"
     ]
    },
    {
     "name": "stdout",
     "output_type": "stream",
     "text": [
      " 80%|████████  | 8/10 [00:16<00:04,  2.08s/trial, best loss: 0.018133159886421963]"
     ]
    },
    {
     "name": "stderr",
     "output_type": "stream",
     "text": [
      "Distutils was imported before Setuptools, but importing Setuptools also replaces the `distutils` module in `sys.modules`. This may lead to undesirable behaviors or errors. To avoid these issues, avoid using distutils directly, ensure that setuptools is installed in the traditional way (e.g. not an editable install), and/or make sure that setuptools is always imported before distutils.\n",
      "\n",
      "Setuptools is replacing distutils.\n",
      "\n",
      "Registered model 'gradient boosting-regressor-tr' already exists. Creating a new version of this model...\n",
      "Created version '8' of model 'gradient boosting-regressor-tr'.\n",
      "Hint: Inferred schema contains integer column(s). Integer columns in Python cannot represent missing values. If your input data contains missing values at inference time, it will be encoded as floats and will cause a schema enforcement error. The best way to avoid this problem is to infer the model schema based on a realistic data sample (training dataset) that includes missing values. Alternatively, you can declare integer columns as doubles (float64) whenever these columns may have missing values. See `Handling Integers With Missing Values <https://www.mlflow.org/docs/latest/models.html#handling-integers-with-missing-values>`_ for more details.\n",
      "\n"
     ]
    },
    {
     "name": "stdout",
     "output_type": "stream",
     "text": [
      " 90%|█████████ | 9/10 [00:19<00:02,  2.29s/trial, best loss: 0.018133159886421963]"
     ]
    },
    {
     "name": "stderr",
     "output_type": "stream",
     "text": [
      "Distutils was imported before Setuptools, but importing Setuptools also replaces the `distutils` module in `sys.modules`. This may lead to undesirable behaviors or errors. To avoid these issues, avoid using distutils directly, ensure that setuptools is installed in the traditional way (e.g. not an editable install), and/or make sure that setuptools is always imported before distutils.\n",
      "\n",
      "Setuptools is replacing distutils.\n",
      "\n",
      "Registered model 'gradient boosting-regressor-tr' already exists. Creating a new version of this model...\n",
      "Created version '9' of model 'gradient boosting-regressor-tr'.\n",
      "Hint: Inferred schema contains integer column(s). Integer columns in Python cannot represent missing values. If your input data contains missing values at inference time, it will be encoded as floats and will cause a schema enforcement error. The best way to avoid this problem is to infer the model schema based on a realistic data sample (training dataset) that includes missing values. Alternatively, you can declare integer columns as doubles (float64) whenever these columns may have missing values. See `Handling Integers With Missing Values <https://www.mlflow.org/docs/latest/models.html#handling-integers-with-missing-values>`_ for more details.\n",
      "\n"
     ]
    },
    {
     "name": "stdout",
     "output_type": "stream",
     "text": [
      "100%|██████████| 10/10 [00:21<00:00,  2.14s/trial, best loss: 0.018133159886421963]"
     ]
    },
    {
     "name": "stderr",
     "output_type": "stream",
     "text": [
      "Distutils was imported before Setuptools, but importing Setuptools also replaces the `distutils` module in `sys.modules`. This may lead to undesirable behaviors or errors. To avoid these issues, avoid using distutils directly, ensure that setuptools is installed in the traditional way (e.g. not an editable install), and/or make sure that setuptools is always imported before distutils.\n",
      "\n",
      "Setuptools is replacing distutils.\n",
      "\n",
      "Registered model 'gradient boosting-regressor-tr' already exists. Creating a new version of this model...\n",
      "Created version '10' of model 'gradient boosting-regressor-tr'.\n"
     ]
    },
    {
     "name": "stdout",
     "output_type": "stream",
     "text": [
      "\n"
     ]
    },
    {
     "name": "stderr",
     "output_type": "stream",
     "text": [
      "Registered model 'gradient boosting-regressor-tr' already exists. Creating a new version of this model...\n",
      "Created version '11' of model 'gradient boosting-regressor-tr'.\n"
     ]
    },
    {
     "name": "stdout",
     "output_type": "stream",
     "text": [
      "  0%|          | 0/10 [00:00<?, ?trial/s, best loss=?]"
     ]
    },
    {
     "name": "stderr",
     "output_type": "stream",
     "text": [
      "Registered model 'gradient boosting-regressor-tr' already exists. Creating a new version of this model...\n",
      "Created version '12' of model 'gradient boosting-regressor-tr'.\n",
      "Hint: Inferred schema contains integer column(s). Integer columns in Python cannot represent missing values. If your input data contains missing values at inference time, it will be encoded as floats and will cause a schema enforcement error. The best way to avoid this problem is to infer the model schema based on a realistic data sample (training dataset) that includes missing values. Alternatively, you can declare integer columns as doubles (float64) whenever these columns may have missing values. See `Handling Integers With Missing Values <https://www.mlflow.org/docs/latest/models.html#handling-integers-with-missing-values>`_ for more details.\n",
      "\n"
     ]
    },
    {
     "name": "stdout",
     "output_type": "stream",
     "text": [
      " 10%|█         | 1/10 [00:03<00:28,  3.17s/trial, best loss: 0.06414687864555592]"
     ]
    },
    {
     "name": "stderr",
     "output_type": "stream",
     "text": [
      "Distutils was imported before Setuptools, but importing Setuptools also replaces the `distutils` module in `sys.modules`. This may lead to undesirable behaviors or errors. To avoid these issues, avoid using distutils directly, ensure that setuptools is installed in the traditional way (e.g. not an editable install), and/or make sure that setuptools is always imported before distutils.\n",
      "\n",
      "Setuptools is replacing distutils.\n",
      "\n",
      "Successfully registered model 'support vector machine-regressor-tr'.\n",
      "Created version '1' of model 'support vector machine-regressor-tr'.\n",
      "Hint: Inferred schema contains integer column(s). Integer columns in Python cannot represent missing values. If your input data contains missing values at inference time, it will be encoded as floats and will cause a schema enforcement error. The best way to avoid this problem is to infer the model schema based on a realistic data sample (training dataset) that includes missing values. Alternatively, you can declare integer columns as doubles (float64) whenever these columns may have missing values. See `Handling Integers With Missing Values <https://www.mlflow.org/docs/latest/models.html#handling-integers-with-missing-values>`_ for more details.\n",
      "\n"
     ]
    },
    {
     "name": "stdout",
     "output_type": "stream",
     "text": [
      " 20%|██        | 2/10 [00:04<00:17,  2.16s/trial, best loss: 0.05210661110649935]"
     ]
    },
    {
     "name": "stderr",
     "output_type": "stream",
     "text": [
      "Distutils was imported before Setuptools, but importing Setuptools also replaces the `distutils` module in `sys.modules`. This may lead to undesirable behaviors or errors. To avoid these issues, avoid using distutils directly, ensure that setuptools is installed in the traditional way (e.g. not an editable install), and/or make sure that setuptools is always imported before distutils.\n",
      "\n",
      "Setuptools is replacing distutils.\n",
      "\n",
      "Registered model 'support vector machine-regressor-tr' already exists. Creating a new version of this model...\n",
      "Created version '2' of model 'support vector machine-regressor-tr'.\n",
      "Hint: Inferred schema contains integer column(s). Integer columns in Python cannot represent missing values. If your input data contains missing values at inference time, it will be encoded as floats and will cause a schema enforcement error. The best way to avoid this problem is to infer the model schema based on a realistic data sample (training dataset) that includes missing values. Alternatively, you can declare integer columns as doubles (float64) whenever these columns may have missing values. See `Handling Integers With Missing Values <https://www.mlflow.org/docs/latest/models.html#handling-integers-with-missing-values>`_ for more details.\n",
      "\n"
     ]
    },
    {
     "name": "stdout",
     "output_type": "stream",
     "text": [
      " 30%|███       | 3/10 [00:06<00:12,  1.82s/trial, best loss: 0.05210661110649935]"
     ]
    },
    {
     "name": "stderr",
     "output_type": "stream",
     "text": [
      "Distutils was imported before Setuptools, but importing Setuptools also replaces the `distutils` module in `sys.modules`. This may lead to undesirable behaviors or errors. To avoid these issues, avoid using distutils directly, ensure that setuptools is installed in the traditional way (e.g. not an editable install), and/or make sure that setuptools is always imported before distutils.\n",
      "\n",
      "Setuptools is replacing distutils.\n",
      "\n",
      "Registered model 'support vector machine-regressor-tr' already exists. Creating a new version of this model...\n",
      "Created version '3' of model 'support vector machine-regressor-tr'.\n",
      "Hint: Inferred schema contains integer column(s). Integer columns in Python cannot represent missing values. If your input data contains missing values at inference time, it will be encoded as floats and will cause a schema enforcement error. The best way to avoid this problem is to infer the model schema based on a realistic data sample (training dataset) that includes missing values. Alternatively, you can declare integer columns as doubles (float64) whenever these columns may have missing values. See `Handling Integers With Missing Values <https://www.mlflow.org/docs/latest/models.html#handling-integers-with-missing-values>`_ for more details.\n",
      "\n"
     ]
    },
    {
     "name": "stdout",
     "output_type": "stream",
     "text": [
      " 40%|████      | 4/10 [00:07<00:09,  1.61s/trial, best loss: 0.05210661110649935]"
     ]
    },
    {
     "name": "stderr",
     "output_type": "stream",
     "text": [
      "Distutils was imported before Setuptools, but importing Setuptools also replaces the `distutils` module in `sys.modules`. This may lead to undesirable behaviors or errors. To avoid these issues, avoid using distutils directly, ensure that setuptools is installed in the traditional way (e.g. not an editable install), and/or make sure that setuptools is always imported before distutils.\n",
      "\n",
      "Setuptools is replacing distutils.\n",
      "\n",
      "Registered model 'support vector machine-regressor-tr' already exists. Creating a new version of this model...\n",
      "Created version '4' of model 'support vector machine-regressor-tr'.\n",
      "Hint: Inferred schema contains integer column(s). Integer columns in Python cannot represent missing values. If your input data contains missing values at inference time, it will be encoded as floats and will cause a schema enforcement error. The best way to avoid this problem is to infer the model schema based on a realistic data sample (training dataset) that includes missing values. Alternatively, you can declare integer columns as doubles (float64) whenever these columns may have missing values. See `Handling Integers With Missing Values <https://www.mlflow.org/docs/latest/models.html#handling-integers-with-missing-values>`_ for more details.\n",
      "\n"
     ]
    },
    {
     "name": "stdout",
     "output_type": "stream",
     "text": [
      " 50%|█████     | 5/10 [00:08<00:07,  1.47s/trial, best loss: 0.051714551168323034]"
     ]
    },
    {
     "name": "stderr",
     "output_type": "stream",
     "text": [
      "Distutils was imported before Setuptools, but importing Setuptools also replaces the `distutils` module in `sys.modules`. This may lead to undesirable behaviors or errors. To avoid these issues, avoid using distutils directly, ensure that setuptools is installed in the traditional way (e.g. not an editable install), and/or make sure that setuptools is always imported before distutils.\n",
      "\n",
      "Setuptools is replacing distutils.\n",
      "\n",
      "Registered model 'support vector machine-regressor-tr' already exists. Creating a new version of this model...\n",
      "Created version '5' of model 'support vector machine-regressor-tr'.\n",
      "Hint: Inferred schema contains integer column(s). Integer columns in Python cannot represent missing values. If your input data contains missing values at inference time, it will be encoded as floats and will cause a schema enforcement error. The best way to avoid this problem is to infer the model schema based on a realistic data sample (training dataset) that includes missing values. Alternatively, you can declare integer columns as doubles (float64) whenever these columns may have missing values. See `Handling Integers With Missing Values <https://www.mlflow.org/docs/latest/models.html#handling-integers-with-missing-values>`_ for more details.\n",
      "\n"
     ]
    },
    {
     "name": "stdout",
     "output_type": "stream",
     "text": [
      " 60%|██████    | 6/10 [00:09<00:05,  1.40s/trial, best loss: 0.051714551168323034]"
     ]
    },
    {
     "name": "stderr",
     "output_type": "stream",
     "text": [
      "Distutils was imported before Setuptools, but importing Setuptools also replaces the `distutils` module in `sys.modules`. This may lead to undesirable behaviors or errors. To avoid these issues, avoid using distutils directly, ensure that setuptools is installed in the traditional way (e.g. not an editable install), and/or make sure that setuptools is always imported before distutils.\n",
      "\n",
      "Setuptools is replacing distutils.\n",
      "\n",
      "Registered model 'support vector machine-regressor-tr' already exists. Creating a new version of this model...\n",
      "Created version '6' of model 'support vector machine-regressor-tr'.\n",
      "Hint: Inferred schema contains integer column(s). Integer columns in Python cannot represent missing values. If your input data contains missing values at inference time, it will be encoded as floats and will cause a schema enforcement error. The best way to avoid this problem is to infer the model schema based on a realistic data sample (training dataset) that includes missing values. Alternatively, you can declare integer columns as doubles (float64) whenever these columns may have missing values. See `Handling Integers With Missing Values <https://www.mlflow.org/docs/latest/models.html#handling-integers-with-missing-values>`_ for more details.\n",
      "\n"
     ]
    },
    {
     "name": "stdout",
     "output_type": "stream",
     "text": [
      " 70%|███████   | 7/10 [00:11<00:04,  1.47s/trial, best loss: 0.051714551168323034]"
     ]
    },
    {
     "name": "stderr",
     "output_type": "stream",
     "text": [
      "Distutils was imported before Setuptools, but importing Setuptools also replaces the `distutils` module in `sys.modules`. This may lead to undesirable behaviors or errors. To avoid these issues, avoid using distutils directly, ensure that setuptools is installed in the traditional way (e.g. not an editable install), and/or make sure that setuptools is always imported before distutils.\n",
      "\n",
      "Setuptools is replacing distutils.\n",
      "\n",
      "Registered model 'support vector machine-regressor-tr' already exists. Creating a new version of this model...\n",
      "Created version '7' of model 'support vector machine-regressor-tr'.\n",
      "Hint: Inferred schema contains integer column(s). Integer columns in Python cannot represent missing values. If your input data contains missing values at inference time, it will be encoded as floats and will cause a schema enforcement error. The best way to avoid this problem is to infer the model schema based on a realistic data sample (training dataset) that includes missing values. Alternatively, you can declare integer columns as doubles (float64) whenever these columns may have missing values. See `Handling Integers With Missing Values <https://www.mlflow.org/docs/latest/models.html#handling-integers-with-missing-values>`_ for more details.\n",
      "\n"
     ]
    },
    {
     "name": "stdout",
     "output_type": "stream",
     "text": [
      " 80%|████████  | 8/10 [00:12<00:02,  1.43s/trial, best loss: 0.051714551168323034]"
     ]
    },
    {
     "name": "stderr",
     "output_type": "stream",
     "text": [
      "Distutils was imported before Setuptools, but importing Setuptools also replaces the `distutils` module in `sys.modules`. This may lead to undesirable behaviors or errors. To avoid these issues, avoid using distutils directly, ensure that setuptools is installed in the traditional way (e.g. not an editable install), and/or make sure that setuptools is always imported before distutils.\n",
      "\n",
      "Setuptools is replacing distutils.\n",
      "\n",
      "Registered model 'support vector machine-regressor-tr' already exists. Creating a new version of this model...\n",
      "Created version '8' of model 'support vector machine-regressor-tr'.\n",
      "Hint: Inferred schema contains integer column(s). Integer columns in Python cannot represent missing values. If your input data contains missing values at inference time, it will be encoded as floats and will cause a schema enforcement error. The best way to avoid this problem is to infer the model schema based on a realistic data sample (training dataset) that includes missing values. Alternatively, you can declare integer columns as doubles (float64) whenever these columns may have missing values. See `Handling Integers With Missing Values <https://www.mlflow.org/docs/latest/models.html#handling-integers-with-missing-values>`_ for more details.\n",
      "\n"
     ]
    },
    {
     "name": "stdout",
     "output_type": "stream",
     "text": [
      " 90%|█████████ | 9/10 [00:14<00:01,  1.38s/trial, best loss: 0.051714551168323034]"
     ]
    },
    {
     "name": "stderr",
     "output_type": "stream",
     "text": [
      "Distutils was imported before Setuptools, but importing Setuptools also replaces the `distutils` module in `sys.modules`. This may lead to undesirable behaviors or errors. To avoid these issues, avoid using distutils directly, ensure that setuptools is installed in the traditional way (e.g. not an editable install), and/or make sure that setuptools is always imported before distutils.\n",
      "\n",
      "Setuptools is replacing distutils.\n",
      "\n",
      "Registered model 'support vector machine-regressor-tr' already exists. Creating a new version of this model...\n",
      "Created version '9' of model 'support vector machine-regressor-tr'.\n",
      "Hint: Inferred schema contains integer column(s). Integer columns in Python cannot represent missing values. If your input data contains missing values at inference time, it will be encoded as floats and will cause a schema enforcement error. The best way to avoid this problem is to infer the model schema based on a realistic data sample (training dataset) that includes missing values. Alternatively, you can declare integer columns as doubles (float64) whenever these columns may have missing values. See `Handling Integers With Missing Values <https://www.mlflow.org/docs/latest/models.html#handling-integers-with-missing-values>`_ for more details.\n",
      "\n"
     ]
    },
    {
     "name": "stdout",
     "output_type": "stream",
     "text": [
      "100%|██████████| 10/10 [00:15<00:00,  1.54s/trial, best loss: 0.049894319390785535]"
     ]
    },
    {
     "name": "stderr",
     "output_type": "stream",
     "text": [
      "Distutils was imported before Setuptools, but importing Setuptools also replaces the `distutils` module in `sys.modules`. This may lead to undesirable behaviors or errors. To avoid these issues, avoid using distutils directly, ensure that setuptools is installed in the traditional way (e.g. not an editable install), and/or make sure that setuptools is always imported before distutils.\n",
      "\n",
      "Setuptools is replacing distutils.\n",
      "\n",
      "Registered model 'support vector machine-regressor-tr' already exists. Creating a new version of this model...\n",
      "Created version '10' of model 'support vector machine-regressor-tr'.\n"
     ]
    },
    {
     "name": "stdout",
     "output_type": "stream",
     "text": [
      "\n"
     ]
    },
    {
     "name": "stderr",
     "output_type": "stream",
     "text": [
      "Registered model 'support vector machine-regressor-tr' already exists. Creating a new version of this model...\n",
      "Created version '11' of model 'support vector machine-regressor-tr'.\n"
     ]
    },
    {
     "name": "stdout",
     "output_type": "stream",
     "text": [
      "  0%|          | 0/10 [00:00<?, ?trial/s, best loss=?]"
     ]
    },
    {
     "name": "stderr",
     "output_type": "stream",
     "text": [
      "Registered model 'support vector machine-regressor-tr' already exists. Creating a new version of this model...\n",
      "Created version '12' of model 'support vector machine-regressor-tr'.\n",
      "Hint: Inferred schema contains integer column(s). Integer columns in Python cannot represent missing values. If your input data contains missing values at inference time, it will be encoded as floats and will cause a schema enforcement error. The best way to avoid this problem is to infer the model schema based on a realistic data sample (training dataset) that includes missing values. Alternatively, you can declare integer columns as doubles (float64) whenever these columns may have missing values. See `Handling Integers With Missing Values <https://www.mlflow.org/docs/latest/models.html#handling-integers-with-missing-values>`_ for more details.\n",
      "\n"
     ]
    },
    {
     "name": "stdout",
     "output_type": "stream",
     "text": [
      " 10%|█         | 1/10 [00:01<00:12,  1.34s/trial, best loss: 0.02018890419217204]"
     ]
    },
    {
     "name": "stderr",
     "output_type": "stream",
     "text": [
      "Distutils was imported before Setuptools, but importing Setuptools also replaces the `distutils` module in `sys.modules`. This may lead to undesirable behaviors or errors. To avoid these issues, avoid using distutils directly, ensure that setuptools is installed in the traditional way (e.g. not an editable install), and/or make sure that setuptools is always imported before distutils.\n",
      "\n",
      "Setuptools is replacing distutils.\n",
      "\n",
      "Successfully registered model 'k-nearest neighbors-regressor-tr'.\n",
      "Created version '1' of model 'k-nearest neighbors-regressor-tr'.\n",
      "Hint: Inferred schema contains integer column(s). Integer columns in Python cannot represent missing values. If your input data contains missing values at inference time, it will be encoded as floats and will cause a schema enforcement error. The best way to avoid this problem is to infer the model schema based on a realistic data sample (training dataset) that includes missing values. Alternatively, you can declare integer columns as doubles (float64) whenever these columns may have missing values. See `Handling Integers With Missing Values <https://www.mlflow.org/docs/latest/models.html#handling-integers-with-missing-values>`_ for more details.\n",
      "\n"
     ]
    },
    {
     "name": "stdout",
     "output_type": "stream",
     "text": [
      " 20%|██        | 2/10 [00:02<00:10,  1.35s/trial, best loss: 0.02018890419217204]"
     ]
    },
    {
     "name": "stderr",
     "output_type": "stream",
     "text": [
      "Distutils was imported before Setuptools, but importing Setuptools also replaces the `distutils` module in `sys.modules`. This may lead to undesirable behaviors or errors. To avoid these issues, avoid using distutils directly, ensure that setuptools is installed in the traditional way (e.g. not an editable install), and/or make sure that setuptools is always imported before distutils.\n",
      "\n",
      "Setuptools is replacing distutils.\n",
      "\n",
      "Registered model 'k-nearest neighbors-regressor-tr' already exists. Creating a new version of this model...\n",
      "Created version '2' of model 'k-nearest neighbors-regressor-tr'.\n",
      "Hint: Inferred schema contains integer column(s). Integer columns in Python cannot represent missing values. If your input data contains missing values at inference time, it will be encoded as floats and will cause a schema enforcement error. The best way to avoid this problem is to infer the model schema based on a realistic data sample (training dataset) that includes missing values. Alternatively, you can declare integer columns as doubles (float64) whenever these columns may have missing values. See `Handling Integers With Missing Values <https://www.mlflow.org/docs/latest/models.html#handling-integers-with-missing-values>`_ for more details.\n",
      "\n"
     ]
    },
    {
     "name": "stdout",
     "output_type": "stream",
     "text": [
      " 30%|███       | 3/10 [00:04<00:09,  1.37s/trial, best loss: 0.01838427782652189]"
     ]
    },
    {
     "name": "stderr",
     "output_type": "stream",
     "text": [
      "Distutils was imported before Setuptools, but importing Setuptools also replaces the `distutils` module in `sys.modules`. This may lead to undesirable behaviors or errors. To avoid these issues, avoid using distutils directly, ensure that setuptools is installed in the traditional way (e.g. not an editable install), and/or make sure that setuptools is always imported before distutils.\n",
      "\n",
      "Setuptools is replacing distutils.\n",
      "\n",
      "Registered model 'k-nearest neighbors-regressor-tr' already exists. Creating a new version of this model...\n",
      "Created version '3' of model 'k-nearest neighbors-regressor-tr'.\n",
      "Hint: Inferred schema contains integer column(s). Integer columns in Python cannot represent missing values. If your input data contains missing values at inference time, it will be encoded as floats and will cause a schema enforcement error. The best way to avoid this problem is to infer the model schema based on a realistic data sample (training dataset) that includes missing values. Alternatively, you can declare integer columns as doubles (float64) whenever these columns may have missing values. See `Handling Integers With Missing Values <https://www.mlflow.org/docs/latest/models.html#handling-integers-with-missing-values>`_ for more details.\n",
      "\n"
     ]
    },
    {
     "name": "stdout",
     "output_type": "stream",
     "text": [
      " 40%|████      | 4/10 [00:05<00:07,  1.33s/trial, best loss: 0.01824969595778763]"
     ]
    },
    {
     "name": "stderr",
     "output_type": "stream",
     "text": [
      "Distutils was imported before Setuptools, but importing Setuptools also replaces the `distutils` module in `sys.modules`. This may lead to undesirable behaviors or errors. To avoid these issues, avoid using distutils directly, ensure that setuptools is installed in the traditional way (e.g. not an editable install), and/or make sure that setuptools is always imported before distutils.\n",
      "\n",
      "Setuptools is replacing distutils.\n",
      "\n",
      "Registered model 'k-nearest neighbors-regressor-tr' already exists. Creating a new version of this model...\n",
      "Created version '4' of model 'k-nearest neighbors-regressor-tr'.\n",
      "Hint: Inferred schema contains integer column(s). Integer columns in Python cannot represent missing values. If your input data contains missing values at inference time, it will be encoded as floats and will cause a schema enforcement error. The best way to avoid this problem is to infer the model schema based on a realistic data sample (training dataset) that includes missing values. Alternatively, you can declare integer columns as doubles (float64) whenever these columns may have missing values. See `Handling Integers With Missing Values <https://www.mlflow.org/docs/latest/models.html#handling-integers-with-missing-values>`_ for more details.\n",
      "\n"
     ]
    },
    {
     "name": "stdout",
     "output_type": "stream",
     "text": [
      " 50%|█████     | 5/10 [00:06<00:06,  1.32s/trial, best loss: 0.01824969595778763]"
     ]
    },
    {
     "name": "stderr",
     "output_type": "stream",
     "text": [
      "Distutils was imported before Setuptools, but importing Setuptools also replaces the `distutils` module in `sys.modules`. This may lead to undesirable behaviors or errors. To avoid these issues, avoid using distutils directly, ensure that setuptools is installed in the traditional way (e.g. not an editable install), and/or make sure that setuptools is always imported before distutils.\n",
      "\n",
      "Setuptools is replacing distutils.\n",
      "\n",
      "Registered model 'k-nearest neighbors-regressor-tr' already exists. Creating a new version of this model...\n",
      "Created version '5' of model 'k-nearest neighbors-regressor-tr'.\n",
      "Hint: Inferred schema contains integer column(s). Integer columns in Python cannot represent missing values. If your input data contains missing values at inference time, it will be encoded as floats and will cause a schema enforcement error. The best way to avoid this problem is to infer the model schema based on a realistic data sample (training dataset) that includes missing values. Alternatively, you can declare integer columns as doubles (float64) whenever these columns may have missing values. See `Handling Integers With Missing Values <https://www.mlflow.org/docs/latest/models.html#handling-integers-with-missing-values>`_ for more details.\n",
      "\n"
     ]
    },
    {
     "name": "stdout",
     "output_type": "stream",
     "text": [
      " 60%|██████    | 6/10 [00:07<00:05,  1.32s/trial, best loss: 0.01824969595778763]"
     ]
    },
    {
     "name": "stderr",
     "output_type": "stream",
     "text": [
      "Distutils was imported before Setuptools, but importing Setuptools also replaces the `distutils` module in `sys.modules`. This may lead to undesirable behaviors or errors. To avoid these issues, avoid using distutils directly, ensure that setuptools is installed in the traditional way (e.g. not an editable install), and/or make sure that setuptools is always imported before distutils.\n",
      "\n",
      "Setuptools is replacing distutils.\n",
      "\n",
      "Registered model 'k-nearest neighbors-regressor-tr' already exists. Creating a new version of this model...\n",
      "Created version '6' of model 'k-nearest neighbors-regressor-tr'.\n",
      "Hint: Inferred schema contains integer column(s). Integer columns in Python cannot represent missing values. If your input data contains missing values at inference time, it will be encoded as floats and will cause a schema enforcement error. The best way to avoid this problem is to infer the model schema based on a realistic data sample (training dataset) that includes missing values. Alternatively, you can declare integer columns as doubles (float64) whenever these columns may have missing values. See `Handling Integers With Missing Values <https://www.mlflow.org/docs/latest/models.html#handling-integers-with-missing-values>`_ for more details.\n",
      "\n"
     ]
    },
    {
     "name": "stdout",
     "output_type": "stream",
     "text": [
      " 70%|███████   | 7/10 [00:09<00:03,  1.30s/trial, best loss: 0.017793150599169017]"
     ]
    },
    {
     "name": "stderr",
     "output_type": "stream",
     "text": [
      "Distutils was imported before Setuptools, but importing Setuptools also replaces the `distutils` module in `sys.modules`. This may lead to undesirable behaviors or errors. To avoid these issues, avoid using distutils directly, ensure that setuptools is installed in the traditional way (e.g. not an editable install), and/or make sure that setuptools is always imported before distutils.\n",
      "\n",
      "Setuptools is replacing distutils.\n",
      "\n",
      "Registered model 'k-nearest neighbors-regressor-tr' already exists. Creating a new version of this model...\n",
      "Created version '7' of model 'k-nearest neighbors-regressor-tr'.\n",
      "Hint: Inferred schema contains integer column(s). Integer columns in Python cannot represent missing values. If your input data contains missing values at inference time, it will be encoded as floats and will cause a schema enforcement error. The best way to avoid this problem is to infer the model schema based on a realistic data sample (training dataset) that includes missing values. Alternatively, you can declare integer columns as doubles (float64) whenever these columns may have missing values. See `Handling Integers With Missing Values <https://www.mlflow.org/docs/latest/models.html#handling-integers-with-missing-values>`_ for more details.\n",
      "\n"
     ]
    },
    {
     "name": "stdout",
     "output_type": "stream",
     "text": [
      " 80%|████████  | 8/10 [00:10<00:02,  1.29s/trial, best loss: 0.017793150599169017]"
     ]
    },
    {
     "name": "stderr",
     "output_type": "stream",
     "text": [
      "Distutils was imported before Setuptools, but importing Setuptools also replaces the `distutils` module in `sys.modules`. This may lead to undesirable behaviors or errors. To avoid these issues, avoid using distutils directly, ensure that setuptools is installed in the traditional way (e.g. not an editable install), and/or make sure that setuptools is always imported before distutils.\n",
      "\n",
      "Setuptools is replacing distutils.\n",
      "\n",
      "Registered model 'k-nearest neighbors-regressor-tr' already exists. Creating a new version of this model...\n",
      "Created version '8' of model 'k-nearest neighbors-regressor-tr'.\n",
      "Hint: Inferred schema contains integer column(s). Integer columns in Python cannot represent missing values. If your input data contains missing values at inference time, it will be encoded as floats and will cause a schema enforcement error. The best way to avoid this problem is to infer the model schema based on a realistic data sample (training dataset) that includes missing values. Alternatively, you can declare integer columns as doubles (float64) whenever these columns may have missing values. See `Handling Integers With Missing Values <https://www.mlflow.org/docs/latest/models.html#handling-integers-with-missing-values>`_ for more details.\n",
      "\n"
     ]
    },
    {
     "name": "stdout",
     "output_type": "stream",
     "text": [
      " 90%|█████████ | 9/10 [00:11<00:01,  1.30s/trial, best loss: 0.017793150599169017]"
     ]
    },
    {
     "name": "stderr",
     "output_type": "stream",
     "text": [
      "Distutils was imported before Setuptools, but importing Setuptools also replaces the `distutils` module in `sys.modules`. This may lead to undesirable behaviors or errors. To avoid these issues, avoid using distutils directly, ensure that setuptools is installed in the traditional way (e.g. not an editable install), and/or make sure that setuptools is always imported before distutils.\n",
      "\n",
      "Setuptools is replacing distutils.\n",
      "\n",
      "Registered model 'k-nearest neighbors-regressor-tr' already exists. Creating a new version of this model...\n",
      "Created version '9' of model 'k-nearest neighbors-regressor-tr'.\n",
      "Hint: Inferred schema contains integer column(s). Integer columns in Python cannot represent missing values. If your input data contains missing values at inference time, it will be encoded as floats and will cause a schema enforcement error. The best way to avoid this problem is to infer the model schema based on a realistic data sample (training dataset) that includes missing values. Alternatively, you can declare integer columns as doubles (float64) whenever these columns may have missing values. See `Handling Integers With Missing Values <https://www.mlflow.org/docs/latest/models.html#handling-integers-with-missing-values>`_ for more details.\n",
      "\n"
     ]
    },
    {
     "name": "stdout",
     "output_type": "stream",
     "text": [
      "100%|██████████| 10/10 [00:13<00:00,  1.32s/trial, best loss: 0.017793150599169017]"
     ]
    },
    {
     "name": "stderr",
     "output_type": "stream",
     "text": [
      "Distutils was imported before Setuptools, but importing Setuptools also replaces the `distutils` module in `sys.modules`. This may lead to undesirable behaviors or errors. To avoid these issues, avoid using distutils directly, ensure that setuptools is installed in the traditional way (e.g. not an editable install), and/or make sure that setuptools is always imported before distutils.\n",
      "\n",
      "Setuptools is replacing distutils.\n",
      "\n",
      "Registered model 'k-nearest neighbors-regressor-tr' already exists. Creating a new version of this model...\n",
      "Created version '10' of model 'k-nearest neighbors-regressor-tr'.\n"
     ]
    },
    {
     "name": "stdout",
     "output_type": "stream",
     "text": [
      "\n"
     ]
    },
    {
     "name": "stderr",
     "output_type": "stream",
     "text": [
      "Registered model 'k-nearest neighbors-regressor-tr' already exists. Creating a new version of this model...\n",
      "Created version '11' of model 'k-nearest neighbors-regressor-tr'.\n",
      "Registered model 'k-nearest neighbors-regressor-tr' already exists. Creating a new version of this model...\n",
      "Created version '12' of model 'k-nearest neighbors-regressor-tr'.\n"
     ]
    }
   ],
   "source": [
    "# all_predictions = {}\n",
    "best_models = []\n",
    "# Loop through the list of models and train/tune each model\n",
    "for model_info in models:\n",
    "    model_name = model_info['name']\n",
    "    model_class = model_info['model']\n",
    "    search_space = model_info['search_space']\n",
    "\n",
    "    def objective(params):\n",
    "        try:\n",
    "            # Check if there is an active run and end it\n",
    "            if mlflow.active_run() is not None:\n",
    "                mlflow.end_run()\n",
    "                \n",
    "            with mlflow.start_run(run_name=f'{model_name}_run'):\n",
    "                mlflow.set_tag('model', model_name)\n",
    "                mlflow.log_params(params=params)\n",
    "\n",
    "                # data pipeline\n",
    "                if search_space:\n",
    "                    model = model_class(**params)\n",
    "                else:\n",
    "                    model = model_class()\n",
    "\n",
    "                data_pipeline = Pipeline(steps=[('Preprocessing', preprocessor), \n",
    "                                                (model_name, model)])\n",
    "                \n",
    "                # cross validation\n",
    "                cv_scores = cross_val_score(data_pipeline, x_train, y_train, cv=5, scoring='neg_mean_squared_error')\n",
    "                avg_cv_rmse = np.sqrt(-cv_scores.mean())\n",
    "                mlflow.log_metric('avg_cv_rmse', avg_cv_rmse)\n",
    "                \n",
    "                # training\n",
    "                data_pipeline.fit(x_train, y_train)\n",
    "\n",
    "                # train and test prediction\n",
    "                #pred_train = data_pipeline.predict(x_train)\n",
    "                pred = data_pipeline.predict(x_test)\n",
    "                rmse, mae, r2, r2_adj = evaluate(y_test=y_test, y_pred=pred)\n",
    "                signature = infer_signature(x_train, pred)\n",
    "\n",
    "                # # collecting pred\n",
    "                # all_predictions[model_name] = {'true_labels': y_test,\n",
    "                #                                'predicted_labels': pred}\n",
    "\n",
    "                # test\n",
    "                mlflow.log_metric('rmse', rmse)\n",
    "                mlflow.log_metric('mae', mae)\n",
    "                mlflow.log_metric('r2', r2)\n",
    "                mlflow.log_metric('r2_adj', r2_adj)\n",
    "                \n",
    "                mlflow.sklearn.log_model(\n",
    "                    sk_model=model,\n",
    "                    artifact_path=f\"{model_name.lower()}-model-tr\",\n",
    "                    signature=signature,\n",
    "                    registered_model_name=f\"{model_name.lower()}-regressor-tr\",\n",
    "                )\n",
    "            \n",
    "            return  {'loss': rmse, 'status': STATUS_OK}\n",
    "        \n",
    "        except Exception as err:\n",
    "            # Log the error and continue to the next model\n",
    "            print(f\"Error occurred for {model_name}: {str(err)}\")\n",
    "            traceback.print_exc()  # Print detailed error traceback\n",
    "            return {'loss': float('inf'), 'status': STATUS_FAIL}  # Set a high loss value to minimize impact on optimization\n",
    "\n",
    "    try:\n",
    "        if search_space:\n",
    "            # Hyperparameter tuning\n",
    "            best_results = fmin(fn=objective, \n",
    "                                space=search_space, \n",
    "                                algo=tpe.suggest, \n",
    "                                max_evals=10, \n",
    "                                trials=Trials())\n",
    "            \n",
    "            # Get the best model based on the best_results or other criteria\n",
    "            best_model = model_class(**best_results)\n",
    "\n",
    "            # Log hyperparameters of the best model\n",
    "            mlflow.log_params(params=best_results)\n",
    "\n",
    "        else:\n",
    "            best_model = model_class()\n",
    "            \n",
    "        # Tag the best model with additional information\n",
    "        mlflow.set_tag('best_model_name', model_name)\n",
    "\n",
    "        best_models.append((model_name, best_model))\n",
    "        \n",
    "        # # Get the best model based on the best_results or other criteria\n",
    "        # best_model = model_class(**best_results)\n",
    "\n",
    "        # Save the best model (this may vary based on the model serialization method you are using)\n",
    "        save_model(best_model, f\"best_{model_name.lower()}_model_tr\")\n",
    "\n",
    "        # Register the model in the Model Registry\n",
    "        model_uri = f\"runs:/{mlflow.active_run().info.run_id}/best_{model_name.lower()}_model_tr\"\n",
    "        mlflow.register_model(model_uri, f\"{model_name.lower()}-regressor-tr\")\n",
    "\n",
    "        # Log the best model with hyperparameters\n",
    "        mlflow.sklearn.log_model(\n",
    "        sk_model=best_model,\n",
    "        artifact_path=f\"{model_name.lower()}-model-tr\",\n",
    "        #signature=signature,\n",
    "        registered_model_name=f\"{model_name.lower()}-regressor-tr\",\n",
    "    )\n",
    "    except Exception as err:\n",
    "        # Log the error and continue to the next model\n",
    "        print(f\"Error occurred during hyperparameter tuning for {model_name}: {str(err)}\")\n",
    "        traceback.print_exc()  # Print detailed error traceback\n",
    "        continue  # Continue to the next iteration of the loop"
   ]
  },
  {
   "cell_type": "code",
   "execution_count": 7,
   "metadata": {},
   "outputs": [
    {
     "name": "stderr",
     "output_type": "stream",
     "text": [
      "The behavior of DataFrame concatenation with empty or all-NA entries is deprecated. In a future version, this will no longer exclude empty or all-NA columns when determining the result dtypes. To retain the old behavior, exclude the relevant entries before the concat operation.\n"
     ]
    },
    {
     "data": {
      "image/png": "[encoded data removed]",
      "text/plain": [
       "<Figure size 800x600 with 1 Axes>"
      ]
     },
     "metadata": {},
     "output_type": "display_data"
    },
    {
     "data": {
      "text/html": [
       "<div>\n",
       "<style scoped>\n",
       "    .dataframe tbody tr th:only-of-type {\n",
       "        vertical-align: middle;\n",
       "    }\n",
       "\n",
       "    .dataframe tbody tr th {\n",
       "        vertical-align: top;\n",
       "    }\n",
       "\n",
       "    .dataframe thead th {\n",
       "        text-align: right;\n",
       "    }\n",
       "</style>\n",
       "<table border=\"1\" class=\"dataframe\">\n",
       "  <thead>\n",
       "    <tr style=\"text-align: right;\">\n",
       "      <th></th>\n",
       "      <th>Model</th>\n",
       "      <th>RMSE</th>\n",
       "      <th>MAE</th>\n",
       "      <th>R2</th>\n",
       "      <th>R2-adj</th>\n",
       "    </tr>\n",
       "  </thead>\n",
       "  <tbody>\n",
       "    <tr>\n",
       "      <th>0</th>\n",
       "      <td>XGBoost</td>\n",
       "      <td>0.019840</td>\n",
       "      <td>0.011393</td>\n",
       "      <td>0.983658</td>\n",
       "      <td>0.983555</td>\n",
       "    </tr>\n",
       "    <tr>\n",
       "      <th>1</th>\n",
       "      <td>Random Forest</td>\n",
       "      <td>0.017497</td>\n",
       "      <td>0.008973</td>\n",
       "      <td>0.987290</td>\n",
       "      <td>0.987210</td>\n",
       "    </tr>\n",
       "    <tr>\n",
       "      <th>2</th>\n",
       "      <td>Gradient Boosting</td>\n",
       "      <td>0.054224</td>\n",
       "      <td>0.045342</td>\n",
       "      <td>0.877937</td>\n",
       "      <td>0.877163</td>\n",
       "    </tr>\n",
       "    <tr>\n",
       "      <th>3</th>\n",
       "      <td>Support Vector Machine</td>\n",
       "      <td>0.064147</td>\n",
       "      <td>0.052091</td>\n",
       "      <td>0.829173</td>\n",
       "      <td>0.828091</td>\n",
       "    </tr>\n",
       "    <tr>\n",
       "      <th>4</th>\n",
       "      <td>K-Nearest Neighbors</td>\n",
       "      <td>0.020189</td>\n",
       "      <td>0.010563</td>\n",
       "      <td>0.983079</td>\n",
       "      <td>0.982972</td>\n",
       "    </tr>\n",
       "  </tbody>\n",
       "</table>\n",
       "</div>"
      ],
      "text/plain": [
       "                    Model      RMSE       MAE        R2    R2-adj\n",
       "0                 XGBoost  0.019840  0.011393  0.983658  0.983555\n",
       "1           Random Forest  0.017497  0.008973  0.987290  0.987210\n",
       "2       Gradient Boosting  0.054224  0.045342  0.877937  0.877163\n",
       "3  Support Vector Machine  0.064147  0.052091  0.829173  0.828091\n",
       "4     K-Nearest Neighbors  0.020189  0.010563  0.983079  0.982972"
      ]
     },
     "metadata": {},
     "output_type": "display_data"
    }
   ],
   "source": [
    "import pandas as pd\n",
    "import matplotlib.pyplot as plt\n",
    "import mlflow\n",
    "import mlflow.sklearn\n",
    "\n",
    "\n",
    "# Create a DataFrame to store RMSE and R2 scores\n",
    "results_df = pd.DataFrame(columns=['Model', 'RMSE', 'MAE', 'R2', 'R2-adj'])\n",
    "\n",
    "# Lists to store predictions and corresponding model names\n",
    "frames = []\n",
    "cols = []\n",
    "\n",
    "# Loop through the best models\n",
    "for model_name, best_model in best_models:\n",
    "    # Load the best model from the MLflow registry\n",
    "    loaded_model = mlflow.sklearn.load_model(f\"models:/{model_name.lower()}-regressor-tr/1\")\n",
    "\n",
    "    # Assuming x_test and y_test are already defined\n",
    "    x_test_ = preprocessor.transform(x_test)  # Use transform instead of fit_transform for the test set\n",
    "    predictions = loaded_model.predict(x_test_)\n",
    "\n",
    "    # Evaluate the predictions\n",
    "    rmse, mae, r2, r2_adj = evaluate(y_test=y_test, y_pred=predictions)\n",
    "\n",
    "    # Append results to the DataFrame\n",
    "    results_df = pd.concat([results_df, pd.DataFrame({'Model': [model_name], 'RMSE': [rmse], 'MAE': [mae], 'R2': [r2], 'R2-adj': [r2_adj]})], ignore_index=True)\n",
    "\n",
    "    # Append predictions and model names to the lists\n",
    "    frames.append(pd.Series(predictions, name=model_name))\n",
    "    cols.append(model_name)\n",
    "\n",
    "\n",
    "# Concatenate predictions into a single DataFrame\n",
    "y_ = pd.concat(frames, axis=1)\n",
    "\n",
    "# Log the results DataFrame in MLflow\n",
    "# mlflow.log_param(\"num_models\", len(best_models))\n",
    "# mlflow.log_artifact(results_df.to_csv(index=False), \"results.csv\")\n",
    "\n",
    "\n",
    "\n",
    "plt.figure(figsize=(8,6))\n",
    "for model_name in y_.columns:\n",
    "    # Visualize true labels vs. predicted labels\n",
    "    plt.scatter(y_test, y_[model_name], alpha=0.5, label=f'{model_name}')\n",
    "    \n",
    "plt.title(f'{model_name} - True vs. Predicted')\n",
    "plt.xlabel('True Labels')\n",
    "plt.ylabel('Predicted Labels')\n",
    "plt.legend()\n",
    "\n",
    "plt.savefig('data/php_TR.pdf')\n",
    "plt.show()\n",
    "# Print the results DataFrame\n",
    "display(results_df)"
   ]
  },
  {
   "cell_type": "code",
   "execution_count": null,
   "metadata": {},
   "outputs": [],
   "source": []
  }
 ],
 "metadata": {
  "kernelspec": {
   "display_name": ".venv",
   "language": "python",
   "name": "python3"
  },
  "language_info": {
   "codemirror_mode": {
    "name": "ipython",
    "version": 3
   },
   "file_extension": ".py",
   "mimetype": "text/x-python",
   "name": "python",
   "nbconvert_exporter": "python",
   "pygments_lexer": "ipython3",
   "version": "3.11.2"
  }
 },
 "nbformat": 4,
 "nbformat_minor": 2
}
