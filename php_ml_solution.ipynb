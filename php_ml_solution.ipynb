{
 "cells": [
  {
   "cell_type": "markdown",
   "metadata": {},
   "source": [
    "# PHP ML Solution\n",
    "\n",
    "*Objectives*\n",
    "\n",
    "1. Thermal Resistance(TR) Prediction\n",
    "\n",
    "    Input: Te, P, FR, WF, Q --> TR, Tc (Scientific Research Use Case)    \n",
    "    - linear regression\n",
    "    - xgb\n",
    "    - random forest\n",
    "    \n",
    "    \n",
    "2. Thermal Parameters(TP) Prediction\n",
    "\n",
    "    Input: Tc, TR, FR, WF --> Q, P, Te (Industrial Approach)\n",
    "    - linear regression\n",
    "    - xgb\n",
    "    - random forest"
   ]
  },
  {
   "cell_type": "markdown",
   "metadata": {},
   "source": [
    "Machine Learning Result\n",
    "\n",
    "| ML Model | PHP Use Case | RMSE | R2 | R2-Adj |\n",
    "| --- | --- | --- | --- | --- |\n",
    "| linear regression | TR Prediction | XX | XX | XX |\n",
    "| xgb | TR Prediction | XX | XX | XX |\n",
    "| random forest regression | TR Prediction | XX | XX | XX |\n",
    "| linear regression | TP Prediction | XX | XX | XX |\n",
    "| xgb | TP Prediction | XX | XX | XX |\n",
    "| random forest regression | TP Prediction | XX | XX | XX |"
   ]
  },
  {
   "cell_type": "markdown",
   "metadata": {},
   "source": []
  },
  {
   "cell_type": "code",
   "execution_count": null,
   "metadata": {},
   "outputs": [],
   "source": []
  },
  {
   "cell_type": "code",
   "execution_count": null,
   "metadata": {},
   "outputs": [],
   "source": []
  }
 ],
 "metadata": {
  "kernelspec": {
   "display_name": ".venv",
   "language": "python",
   "name": "python3"
  },
  "language_info": {
   "codemirror_mode": {
    "name": "ipython",
    "version": 3
   },
   "file_extension": ".py",
   "mimetype": "text/x-python",
   "name": "python",
   "nbconvert_exporter": "python",
   "pygments_lexer": "ipython3",
   "version": "3.11.2"
  }
 },
 "nbformat": 4,
 "nbformat_minor": 2
}
